{
  "nbformat": 4,
  "nbformat_minor": 0,
  "metadata": {
    "colab": {
      "name": "KNN.ipynb",
      "provenance": []
    },
    "kernelspec": {
      "name": "python3",
      "display_name": "Python 3"
    },
    "language_info": {
      "name": "python"
    }
  },
  "cells": [
    {
      "cell_type": "code",
      "execution_count": null,
      "metadata": {
        "colab": {
          "base_uri": "https://localhost:8080/"
        },
        "id": "VpQBPzz0Pnjq",
        "outputId": "71cdc22f-a78c-45a6-d133-9c2767338cc2"
      },
      "outputs": [
        {
          "output_type": "stream",
          "name": "stdout",
          "text": [
            "Mounted at /content/gdrive\n"
          ]
        }
      ],
      "source": [
        "from google.colab import drive\n",
        "drive.mount('/content/gdrive')\n",
        "import pickle\n",
        "import numpy as np\n",
        "import pandas as pd\n",
        "import cv2\n",
        "from matplotlib import pyplot as plt\n",
        "import glob\n",
        "import random\n",
        "import tensorflow as tf\n",
        "import seaborn as sns\n",
        "import re"
      ]
    },
    {
      "cell_type": "code",
      "source": [
        "pip install keras-tuner"
      ],
      "metadata": {
        "colab": {
          "base_uri": "https://localhost:8080/"
        },
        "id": "tfT93ZCbPvbL",
        "outputId": "5fef3233-d783-429a-f35f-81df6ef07ff9"
      },
      "execution_count": null,
      "outputs": [
        {
          "output_type": "stream",
          "name": "stdout",
          "text": [
            "Collecting keras-tuner\n",
            "  Downloading keras_tuner-1.1.2-py3-none-any.whl (133 kB)\n",
            "\u001b[?25l\r\u001b[K     |██▌                             | 10 kB 21.0 MB/s eta 0:00:01\r\u001b[K     |█████                           | 20 kB 13.4 MB/s eta 0:00:01\r\u001b[K     |███████▍                        | 30 kB 10.2 MB/s eta 0:00:01\r\u001b[K     |█████████▉                      | 40 kB 9.1 MB/s eta 0:00:01\r\u001b[K     |████████████▎                   | 51 kB 4.4 MB/s eta 0:00:01\r\u001b[K     |██████████████▊                 | 61 kB 5.2 MB/s eta 0:00:01\r\u001b[K     |█████████████████▏              | 71 kB 5.5 MB/s eta 0:00:01\r\u001b[K     |███████████████████▋            | 81 kB 5.8 MB/s eta 0:00:01\r\u001b[K     |██████████████████████          | 92 kB 6.4 MB/s eta 0:00:01\r\u001b[K     |████████████████████████▌       | 102 kB 5.0 MB/s eta 0:00:01\r\u001b[K     |███████████████████████████     | 112 kB 5.0 MB/s eta 0:00:01\r\u001b[K     |█████████████████████████████▍  | 122 kB 5.0 MB/s eta 0:00:01\r\u001b[K     |███████████████████████████████▉| 133 kB 5.0 MB/s eta 0:00:01\r\u001b[K     |████████████████████████████████| 133 kB 5.0 MB/s \n",
            "\u001b[?25hRequirement already satisfied: packaging in /usr/local/lib/python3.7/dist-packages (from keras-tuner) (21.3)\n",
            "Requirement already satisfied: numpy in /usr/local/lib/python3.7/dist-packages (from keras-tuner) (1.21.6)\n",
            "Requirement already satisfied: requests in /usr/local/lib/python3.7/dist-packages (from keras-tuner) (2.23.0)\n",
            "Requirement already satisfied: tensorboard in /usr/local/lib/python3.7/dist-packages (from keras-tuner) (2.8.0)\n",
            "Collecting kt-legacy\n",
            "  Downloading kt_legacy-1.0.4-py3-none-any.whl (9.6 kB)\n",
            "Requirement already satisfied: ipython in /usr/local/lib/python3.7/dist-packages (from keras-tuner) (5.5.0)\n",
            "Requirement already satisfied: pexpect in /usr/local/lib/python3.7/dist-packages (from ipython->keras-tuner) (4.8.0)\n",
            "Requirement already satisfied: pickleshare in /usr/local/lib/python3.7/dist-packages (from ipython->keras-tuner) (0.7.5)\n",
            "Requirement already satisfied: decorator in /usr/local/lib/python3.7/dist-packages (from ipython->keras-tuner) (4.4.2)\n",
            "Requirement already satisfied: setuptools>=18.5 in /usr/local/lib/python3.7/dist-packages (from ipython->keras-tuner) (57.4.0)\n",
            "Requirement already satisfied: pygments in /usr/local/lib/python3.7/dist-packages (from ipython->keras-tuner) (2.6.1)\n",
            "Requirement already satisfied: simplegeneric>0.8 in /usr/local/lib/python3.7/dist-packages (from ipython->keras-tuner) (0.8.1)\n",
            "Requirement already satisfied: traitlets>=4.2 in /usr/local/lib/python3.7/dist-packages (from ipython->keras-tuner) (5.1.1)\n",
            "Requirement already satisfied: prompt-toolkit<2.0.0,>=1.0.4 in /usr/local/lib/python3.7/dist-packages (from ipython->keras-tuner) (1.0.18)\n",
            "Requirement already satisfied: six>=1.9.0 in /usr/local/lib/python3.7/dist-packages (from prompt-toolkit<2.0.0,>=1.0.4->ipython->keras-tuner) (1.15.0)\n",
            "Requirement already satisfied: wcwidth in /usr/local/lib/python3.7/dist-packages (from prompt-toolkit<2.0.0,>=1.0.4->ipython->keras-tuner) (0.2.5)\n",
            "Requirement already satisfied: pyparsing!=3.0.5,>=2.0.2 in /usr/local/lib/python3.7/dist-packages (from packaging->keras-tuner) (3.0.8)\n",
            "Requirement already satisfied: ptyprocess>=0.5 in /usr/local/lib/python3.7/dist-packages (from pexpect->ipython->keras-tuner) (0.7.0)\n",
            "Requirement already satisfied: idna<3,>=2.5 in /usr/local/lib/python3.7/dist-packages (from requests->keras-tuner) (2.10)\n",
            "Requirement already satisfied: chardet<4,>=3.0.2 in /usr/local/lib/python3.7/dist-packages (from requests->keras-tuner) (3.0.4)\n",
            "Requirement already satisfied: urllib3!=1.25.0,!=1.25.1,<1.26,>=1.21.1 in /usr/local/lib/python3.7/dist-packages (from requests->keras-tuner) (1.24.3)\n",
            "Requirement already satisfied: certifi>=2017.4.17 in /usr/local/lib/python3.7/dist-packages (from requests->keras-tuner) (2021.10.8)\n",
            "Requirement already satisfied: protobuf>=3.6.0 in /usr/local/lib/python3.7/dist-packages (from tensorboard->keras-tuner) (3.17.3)\n",
            "Requirement already satisfied: tensorboard-data-server<0.7.0,>=0.6.0 in /usr/local/lib/python3.7/dist-packages (from tensorboard->keras-tuner) (0.6.1)\n",
            "Requirement already satisfied: wheel>=0.26 in /usr/local/lib/python3.7/dist-packages (from tensorboard->keras-tuner) (0.37.1)\n",
            "Requirement already satisfied: google-auth-oauthlib<0.5,>=0.4.1 in /usr/local/lib/python3.7/dist-packages (from tensorboard->keras-tuner) (0.4.6)\n",
            "Requirement already satisfied: google-auth<3,>=1.6.3 in /usr/local/lib/python3.7/dist-packages (from tensorboard->keras-tuner) (1.35.0)\n",
            "Requirement already satisfied: markdown>=2.6.8 in /usr/local/lib/python3.7/dist-packages (from tensorboard->keras-tuner) (3.3.6)\n",
            "Requirement already satisfied: grpcio>=1.24.3 in /usr/local/lib/python3.7/dist-packages (from tensorboard->keras-tuner) (1.44.0)\n",
            "Requirement already satisfied: werkzeug>=0.11.15 in /usr/local/lib/python3.7/dist-packages (from tensorboard->keras-tuner) (1.0.1)\n",
            "Requirement already satisfied: absl-py>=0.4 in /usr/local/lib/python3.7/dist-packages (from tensorboard->keras-tuner) (1.0.0)\n",
            "Requirement already satisfied: tensorboard-plugin-wit>=1.6.0 in /usr/local/lib/python3.7/dist-packages (from tensorboard->keras-tuner) (1.8.1)\n",
            "Requirement already satisfied: pyasn1-modules>=0.2.1 in /usr/local/lib/python3.7/dist-packages (from google-auth<3,>=1.6.3->tensorboard->keras-tuner) (0.2.8)\n",
            "Requirement already satisfied: rsa<5,>=3.1.4 in /usr/local/lib/python3.7/dist-packages (from google-auth<3,>=1.6.3->tensorboard->keras-tuner) (4.8)\n",
            "Requirement already satisfied: cachetools<5.0,>=2.0.0 in /usr/local/lib/python3.7/dist-packages (from google-auth<3,>=1.6.3->tensorboard->keras-tuner) (4.2.4)\n",
            "Requirement already satisfied: requests-oauthlib>=0.7.0 in /usr/local/lib/python3.7/dist-packages (from google-auth-oauthlib<0.5,>=0.4.1->tensorboard->keras-tuner) (1.3.1)\n",
            "Requirement already satisfied: importlib-metadata>=4.4 in /usr/local/lib/python3.7/dist-packages (from markdown>=2.6.8->tensorboard->keras-tuner) (4.11.3)\n",
            "Requirement already satisfied: typing-extensions>=3.6.4 in /usr/local/lib/python3.7/dist-packages (from importlib-metadata>=4.4->markdown>=2.6.8->tensorboard->keras-tuner) (4.1.1)\n",
            "Requirement already satisfied: zipp>=0.5 in /usr/local/lib/python3.7/dist-packages (from importlib-metadata>=4.4->markdown>=2.6.8->tensorboard->keras-tuner) (3.8.0)\n",
            "Requirement already satisfied: pyasn1<0.5.0,>=0.4.6 in /usr/local/lib/python3.7/dist-packages (from pyasn1-modules>=0.2.1->google-auth<3,>=1.6.3->tensorboard->keras-tuner) (0.4.8)\n",
            "Requirement already satisfied: oauthlib>=3.0.0 in /usr/local/lib/python3.7/dist-packages (from requests-oauthlib>=0.7.0->google-auth-oauthlib<0.5,>=0.4.1->tensorboard->keras-tuner) (3.2.0)\n",
            "Installing collected packages: kt-legacy, keras-tuner\n",
            "Successfully installed keras-tuner-1.1.2 kt-legacy-1.0.4\n"
          ]
        }
      ]
    },
    {
      "cell_type": "code",
      "source": [
        "from google.colab import drive\n",
        "drive.mount('/content/gdrive')\n",
        "import pickle\n",
        "import numpy as np\n",
        "import pandas as pd\n",
        "import cv2\n",
        "from matplotlib import pyplot as plt\n",
        "import glob\n",
        "import random\n",
        "import tensorflow as tf\n",
        "import seaborn as sns\n",
        "import re\n",
        "import tarfile\n",
        "from sklearn.metrics import confusion_matrix\n",
        "from sklearn.model_selection import GridSearchCV\n",
        "from sklearn.neighbors import KNeighborsClassifier\n",
        "from sklearn.metrics import accuracy_score\n",
        "from sklearn.metrics import precision_score\n",
        "from sklearn.metrics import recall_score\n",
        "from sklearn.metrics import f1_score\n",
        "from sklearn.model_selection import train_test_split\n",
        "import seaborn as sns\n",
        "from keras.optimizers import adam_v2\n",
        "from collections import Counter\n",
        "import tensorflow as tf\n",
        "from tensorflow import keras\n",
        "from tensorflow.keras.layers import Dense\n",
        "from tensorflow.keras.layers import Dropout\n",
        "from tensorflow.keras import Sequential\n",
        "import keras_tuner as kt\n",
        "from keras import optimizer_v2\n",
        "from sklearn.metrics import classification_report"
      ],
      "metadata": {
        "colab": {
          "base_uri": "https://localhost:8080/"
        },
        "id": "1RDE_0I5S5Z_",
        "outputId": "ea5e06a5-4eb2-4ac9-ed5e-9f5e5dcd1921"
      },
      "execution_count": null,
      "outputs": [
        {
          "output_type": "stream",
          "name": "stdout",
          "text": [
            "Drive already mounted at /content/gdrive; to attempt to forcibly remount, call drive.mount(\"/content/gdrive\", force_remount=True).\n"
          ]
        }
      ]
    },
    {
      "cell_type": "code",
      "source": [
        "train_annotation = pickle.load(open('/content/gdrive/MyDrive/Colab_Notebooks/Vehicle_Reidentification/train_annotation.pkl', 'rb'))\n",
        "test_annotation = pickle.load(open('/content/gdrive/MyDrive/Colab_Notebooks/Vehicle_Reidentification/test_annotation.pkl', 'rb'))\n",
        "test_dev_annotation = pickle.load(open('/content/gdrive/MyDrive/Colab_Notebooks/Vehicle_Reidentification/test_dev_annotation.pkl', 'rb'))"
      ],
      "metadata": {
        "id": "K_gIDKx-S-Xt"
      },
      "execution_count": null,
      "outputs": []
    },
    {
      "cell_type": "code",
      "source": [
        "file = tarfile.open('/content/gdrive/MyDrive/Colab_Notebooks/Vehicle_Reidentification/images_train.tar')\n",
        "file.extractall('/content/vehicle_images')\n",
        "file.close()"
      ],
      "metadata": {
        "id": "o4mfxiqeTFAC"
      },
      "execution_count": null,
      "outputs": []
    },
    {
      "cell_type": "code",
      "source": [
        "file = tarfile.open('/content/gdrive/MyDrive/Colab_Notebooks/Vehicle_Reidentification/images_test.tar')\n",
        "file.extractall('/content/vehicle_images')\n",
        "file.close()"
      ],
      "metadata": {
        "id": "mxJ_yS-JTIgp"
      },
      "execution_count": null,
      "outputs": []
    },
    {
      "cell_type": "code",
      "source": [
        "file = tarfile.open('/content/gdrive/MyDrive/Colab_Notebooks/Vehicle_Reidentification/images_dev.tar')\n",
        "file.extractall('/content/vehicle_images')\n",
        "file.close()"
      ],
      "metadata": {
        "id": "AbqstGptTPHR"
      },
      "execution_count": null,
      "outputs": []
    },
    {
      "cell_type": "code",
      "source": [
        "import os\n",
        "import shutil\n",
        "\n",
        "src = '/content/vehicle_images/images_train/'\n",
        "dest = '/content/vehicle_images/'\n",
        "allfiles = os.listdir(src)\n",
        "for f in allfiles:\n",
        "    shutil.move(src + f, dest + f)"
      ],
      "metadata": {
        "id": "aIDUALOgTVTM"
      },
      "execution_count": null,
      "outputs": []
    },
    {
      "cell_type": "code",
      "source": [
        "src = '/content/vehicle_images/images_test/'\n",
        "dest = '/content/vehicle_images/'\n",
        "allfiles = os.listdir(src)\n",
        "for f in allfiles:\n",
        "    shutil.move(src + f, dest + f)"
      ],
      "metadata": {
        "id": "lRSTTsrrTfIr"
      },
      "execution_count": null,
      "outputs": []
    },
    {
      "cell_type": "code",
      "source": [
        "src = '/content/vehicle_images/images_dev/'\n",
        "dest = '/content/vehicle_images/'\n",
        "allfiles = os.listdir(src)\n",
        "for f in allfiles:\n",
        "    shutil.move(src + f, dest + f)"
      ],
      "metadata": {
        "id": "i9geBnDUThYP"
      },
      "execution_count": null,
      "outputs": []
    },
    {
      "cell_type": "code",
      "source": [
        "train_annotation.keys(), test_annotation.keys(), test_dev_annotation.keys()"
      ],
      "metadata": {
        "colab": {
          "base_uri": "https://localhost:8080/"
        },
        "id": "vL9HSjBGXVQT",
        "outputId": "49af49b8-6ce0-4e7c-d1cb-5f6d62779741"
      },
      "execution_count": null,
      "outputs": [
        {
          "output_type": "execute_result",
          "data": {
            "text/plain": [
              "(dict_keys(['train_im_names', 'wheel_label', 'type_label', 'color_label', 'luggage_label', 'd_part_label', 'sky_label', 'bumper_label']),\n",
              " dict_keys(['query_order', 'wheel_label', 'type_label', 'gallery_order', 'color_label', 'luggage_label', 'd_part_label', 'test_im_names', 'bumper_label', 'sky_label']),\n",
              " dict_keys(['query_order', 'wheel_label', 'dev_im_names', 'type_label', 'color_label', 'luggage_label', 'd_part_label', 'sky_label', 'bumper_label', 'gallery_order']))"
            ]
          },
          "metadata": {},
          "execution_count": 13
        }
      ]
    },
    {
      "cell_type": "code",
      "source": [
        "annotations = {}\n",
        "for ind in train_annotation['type_label']:\n",
        "    img_name = train_annotation['train_im_names'][ind]\n",
        "    annotations[img_name] = train_annotation['type_label'][ind]"
      ],
      "metadata": {
        "id": "i3_KW32_Xivu"
      },
      "execution_count": null,
      "outputs": []
    },
    {
      "cell_type": "code",
      "source": [
        "annotations.update(test_annotation['type_label'])\n",
        "annotations.update(test_dev_annotation['type_label'])"
      ],
      "metadata": {
        "id": "1gXXMt6MXoj6"
      },
      "execution_count": null,
      "outputs": []
    },
    {
      "cell_type": "code",
      "source": [
        "print(annotations['00000207_0002_00000001.jpg'])"
      ],
      "metadata": {
        "colab": {
          "base_uri": "https://localhost:8080/"
        },
        "id": "yYBF4HqWXpdN",
        "outputId": "a99f7eb8-01c9-444f-fee6-a352a4973520"
      },
      "execution_count": null,
      "outputs": [
        {
          "output_type": "stream",
          "name": "stdout",
          "text": [
            "2\n"
          ]
        }
      ]
    },
    {
      "cell_type": "code",
      "source": [
        "Counter(annotations.values())"
      ],
      "metadata": {
        "colab": {
          "base_uri": "https://localhost:8080/"
        },
        "id": "9wbvj9nhXpkQ",
        "outputId": "bbc3e1bb-6de3-49d8-9a33-5a872aafdac6"
      },
      "execution_count": null,
      "outputs": [
        {
          "output_type": "execute_result",
          "data": {
            "text/plain": [
              "Counter({0: 61227, 1: 5551, 2: 42675, 3: 2834, 4: 15398, 5: 9567, 6: 158})"
            ]
          },
          "metadata": {},
          "execution_count": 17
        }
      ]
    },
    {
      "cell_type": "code",
      "source": [
        "from imblearn.under_sampling import RandomUnderSampler\n",
        "\n",
        "strategy = {0:100, 1:100, 2:100, 3:100, 4:100, 5:100, 6:100}\n",
        "undersample = RandomUnderSampler(sampling_strategy = strategy)\n",
        "X, y = np.array(list(annotations.keys())), np.array(list(annotations.values()))\n",
        "X = X.reshape(-1,1)\n",
        "y = y.reshape(-1,1)\n",
        "annot_name, annot_label = undersample.fit_resample(X, y)\n",
        "Counter(annot_label)"
      ],
      "metadata": {
        "id": "kTipKp1rXz0v",
        "colab": {
          "base_uri": "https://localhost:8080/"
        },
        "outputId": "da809c04-eae8-42c5-c4e7-4395df3fe877"
      },
      "execution_count": null,
      "outputs": [
        {
          "output_type": "execute_result",
          "data": {
            "text/plain": [
              "Counter({0: 100, 1: 100, 2: 100, 3: 100, 4: 100, 5: 100, 6: 100})"
            ]
          },
          "metadata": {},
          "execution_count": 34
        }
      ]
    },
    {
      "cell_type": "code",
      "source": [
        "annot_name"
      ],
      "metadata": {
        "colab": {
          "base_uri": "https://localhost:8080/"
        },
        "id": "koie6_z2X19o",
        "outputId": "06165a53-5d8f-4710-9ba5-825104d159be"
      },
      "execution_count": null,
      "outputs": [
        {
          "output_type": "execute_result",
          "data": {
            "text/plain": [
              "array([['ISA8N3B8_C1.jpg'],\n",
              "       ['1XEZ16CA_C2.jpg'],\n",
              "       ['INM01RV1_C1.jpg'],\n",
              "       ['ZFC1WNBT_C1.jpg'],\n",
              "       ['FOOBZIYF_C1.jpg'],\n",
              "       ['FPJQ56O0_C1.jpg'],\n",
              "       ['UCROXPPQ_C1.jpg'],\n",
              "       ['GUJCNAUZ_C1.jpg'],\n",
              "       ['PN4PN1PK_C2.jpg'],\n",
              "       ['00001316_0001_00000002.jpg'],\n",
              "       ['PF9EBC3W_C1.jpg'],\n",
              "       ['KMQFH50I_C1.jpg'],\n",
              "       ['KW5DUE22_C1.jpg'],\n",
              "       ['WIGXOBJT_C2.jpg'],\n",
              "       ['YJ1IFYML_C2.jpg'],\n",
              "       ['CWLUUPPS_C2.jpg'],\n",
              "       ['OMBSSD8B_C1.jpg'],\n",
              "       ['ZSCRB504_C2.jpg'],\n",
              "       ['2XRHSFNZ_C2.jpg'],\n",
              "       ['QZIWBFW1_C2.jpg'],\n",
              "       ['31KRUKMI_C1.jpg'],\n",
              "       ['63UMEFPB_C2.jpg'],\n",
              "       ['BL2WYWVV_C1.jpg'],\n",
              "       ['2O14DOQ8_C2.jpg'],\n",
              "       ['JDHCOPD0_C2.jpg'],\n",
              "       ['CXE8TIPD_C1.jpg'],\n",
              "       ['Y3XHUFLD_C1.jpg'],\n",
              "       ['56KFSY6Z_C1.jpg'],\n",
              "       ['NVL4JY7R_C2.jpg'],\n",
              "       ['OG63Q1G0_C1.jpg'],\n",
              "       ['N7YWG43T_C2.jpg'],\n",
              "       ['77UDPW8A_C1.jpg'],\n",
              "       ['8FICTWVV_C1.jpg'],\n",
              "       ['O7ZXWKFE_C2.jpg'],\n",
              "       ['HQBVLM2C_C2.jpg'],\n",
              "       ['ILRFAT73_C1.jpg'],\n",
              "       ['4SBIAB5R_C2.jpg'],\n",
              "       ['RA402I5N_C2.jpg'],\n",
              "       ['1TEHK9Z8_C2.jpg'],\n",
              "       ['AJCDXTKC_C1.jpg'],\n",
              "       ['LZYGCNTD_C1.jpg'],\n",
              "       ['KQ619Q97_C2.jpg'],\n",
              "       ['HULPIWIS_C1.jpg'],\n",
              "       ['ZE792OCK_C2.jpg'],\n",
              "       ['OHGBLJMF_C2.jpg'],\n",
              "       ['8EV9OUPT_C2.jpg'],\n",
              "       ['SKJ2T2KY_C2.jpg'],\n",
              "       ['MJITB398_C2.jpg'],\n",
              "       ['O117Q756_C2.jpg'],\n",
              "       ['ZU7ZCEPI_C1.jpg'],\n",
              "       ['00001449_0002_00000005.jpg'],\n",
              "       ['K2HTEVBF_C2.jpg'],\n",
              "       ['D10POWRW_C1.jpg'],\n",
              "       ['KO1VORSK_C1.jpg'],\n",
              "       ['6HHAF9VW_C2.jpg'],\n",
              "       ['TC5ZHW0Y_C1.jpg'],\n",
              "       ['2NI52COD_C2.jpg'],\n",
              "       ['LK5YP2UI_C1.jpg'],\n",
              "       ['L9IKMEKQ_C1.jpg'],\n",
              "       ['2SA6N0RM_C2.jpg'],\n",
              "       ['58WKTX98_C1.jpg'],\n",
              "       ['5HN0KG1J_C2.jpg'],\n",
              "       ['U8LGAH9Q_C2.jpg'],\n",
              "       ['MFEVW9PM_C2.jpg'],\n",
              "       ['759E67B7_C1.jpg'],\n",
              "       ['TH817F6J_C1.jpg'],\n",
              "       ['SZZTHMAW_C1.jpg'],\n",
              "       ['F62VOURT_C1.jpg'],\n",
              "       ['1ENB71W5_C2.jpg'],\n",
              "       ['VCNKAO0S_C1.jpg'],\n",
              "       ['DIEM9KL9_C2.jpg'],\n",
              "       ['WKP9JZEC_C2.jpg'],\n",
              "       ['MK2UVO8P_C1.jpg'],\n",
              "       ['PJMDP485_C1.jpg'],\n",
              "       ['ZDM6OIQD_C1.jpg'],\n",
              "       ['5BSTGQLC_C1.jpg'],\n",
              "       ['5KYYHQVC_C2.jpg'],\n",
              "       ['85Y1ILVL_C2.jpg'],\n",
              "       ['Q40V9XN2_C1.jpg'],\n",
              "       ['JDQE2GHJ_C2.jpg'],\n",
              "       ['KM4AWOJZ_C1.jpg'],\n",
              "       ['UPDU5X3Y_C2.jpg'],\n",
              "       ['9RSVV7S9_C1.jpg'],\n",
              "       ['7LD2USR3_C1.jpg'],\n",
              "       ['ISBNJP9B_C1.jpg'],\n",
              "       ['997ZWNFS_C2.jpg'],\n",
              "       ['X6Y1FZM5_C2.jpg'],\n",
              "       ['M2GEIHBJ_C2.jpg'],\n",
              "       ['1DSH152O_C1.jpg'],\n",
              "       ['DWU1YHUV_C1.jpg'],\n",
              "       ['M3CZP1N4_C2.jpg'],\n",
              "       ['BLNE8GVV_C2.jpg'],\n",
              "       ['1KOQQ91R_C1.jpg'],\n",
              "       ['X90OUELL_C2.jpg'],\n",
              "       ['3EX9OQ5L_C1.jpg'],\n",
              "       ['TJCUOVJM_C2.jpg'],\n",
              "       ['VAAZ0HXJ_C1.jpg'],\n",
              "       ['72LQSLDU_C1.jpg'],\n",
              "       ['A2ZN475G_C2.jpg'],\n",
              "       ['HI61YJ10_C1.jpg'],\n",
              "       ['X7663DQ2_C2.jpg'],\n",
              "       ['IDGDHB6R_C1.jpg'],\n",
              "       ['C833OSD7_C1.jpg'],\n",
              "       ['UC473CG3_C2.jpg'],\n",
              "       ['BCL4RKKC_C1.jpg'],\n",
              "       ['3QIY27D2_C1.jpg'],\n",
              "       ['OKJYKN46_C2.jpg'],\n",
              "       ['UVWC6E6H_C1.jpg'],\n",
              "       ['II87L3WP_C1.jpg'],\n",
              "       ['AHIUB44K_C2.jpg'],\n",
              "       ['VSWFLB55_C2.jpg'],\n",
              "       ['UDXJJBYM_C1.jpg'],\n",
              "       ['1G7ZWU0Y_C1.jpg'],\n",
              "       ['LSTT4JLI_C2.jpg'],\n",
              "       ['8DHMJF8I_C1.jpg'],\n",
              "       ['V1X51BLI_C2.jpg'],\n",
              "       ['62WHUZFQ_C1.jpg'],\n",
              "       ['M27JEKJW_C1.jpg'],\n",
              "       ['T1JABF2Y_C1.jpg'],\n",
              "       ['QIY5QPC6_C2.jpg'],\n",
              "       ['LCK872H1_C2.jpg'],\n",
              "       ['RKB9KMAI_C1.jpg'],\n",
              "       ['W5XP5UFB_C2.jpg'],\n",
              "       ['9B1XXUNR_C1.jpg'],\n",
              "       ['WIEFE605_C1.jpg'],\n",
              "       ['JCIF8JN0_C1.jpg'],\n",
              "       ['00001801_0001_00000001.jpg'],\n",
              "       ['TTNSFDAH_C1.jpg'],\n",
              "       ['L5G1F4NS_C2.jpg'],\n",
              "       ['L5ZR9ERJ_C1.jpg'],\n",
              "       ['SCJ3ANS5_C2.jpg'],\n",
              "       ['3AYHEP85_C2.jpg'],\n",
              "       ['AJLE8ZA6_C1.jpg'],\n",
              "       ['7FGHCBT6_C2.jpg'],\n",
              "       ['XR390O9W_C2.jpg'],\n",
              "       ['SOA22D7V_C2.jpg'],\n",
              "       ['16KASFDJ_C2.jpg'],\n",
              "       ['Y9RSCYPL_C2.jpg'],\n",
              "       ['6XO9TSKD_C2.jpg'],\n",
              "       ['3APNEA0Y_C1.jpg'],\n",
              "       ['P9OCBI74_C2.jpg'],\n",
              "       ['VJU5KYEZ_C1.jpg'],\n",
              "       ['4J733EVB_C1.jpg'],\n",
              "       ['6PTR00HG_C2.jpg'],\n",
              "       ['50CDNY1A_C1.jpg'],\n",
              "       ['DJID17NW_C1.jpg'],\n",
              "       ['ZWNA1LEF_C1.jpg'],\n",
              "       ['GEEM2MVZ_C2.jpg'],\n",
              "       ['KDRKZDH6_C2.jpg'],\n",
              "       ['0YELFTYE_C1.jpg'],\n",
              "       ['09802GIZ_C1.jpg'],\n",
              "       ['E1XJTPCJ_C2.jpg'],\n",
              "       ['1D7CQWV3_C2.jpg'],\n",
              "       ['L07G3ONZ_C1.jpg'],\n",
              "       ['M14ZOHDA_C1.jpg'],\n",
              "       ['PQ34EMUJ_C1.jpg'],\n",
              "       ['H1SGVMOH_C1.jpg'],\n",
              "       ['UTCOHVN3_C2.jpg'],\n",
              "       ['KIMNGRII_C1.jpg'],\n",
              "       ['XL438ME5_C2.jpg'],\n",
              "       ['G4WD1SME_C2.jpg'],\n",
              "       ['M2ETYR29_C2.jpg'],\n",
              "       ['ZUPLPWUF_C2.jpg'],\n",
              "       ['A9LN46I7_C1.jpg'],\n",
              "       ['GYBNDCIN_C1.jpg'],\n",
              "       ['2YW5YME4_C1.jpg'],\n",
              "       ['UDC7VZBT_C2.jpg'],\n",
              "       ['RAC0V9Y1_C1.jpg'],\n",
              "       ['44E6A75S_C2.jpg'],\n",
              "       ['YR83B7CQ_C1.jpg'],\n",
              "       ['EALV2HRC_C1.jpg'],\n",
              "       ['ORYLXT79_C2.jpg'],\n",
              "       ['EIYSDM2S_C1.jpg'],\n",
              "       ['00001497_0002_00000003.jpg'],\n",
              "       ['FLVAE34B_C1.jpg'],\n",
              "       ['VHBSXJ4S_C2.jpg'],\n",
              "       ['IOYH5L1P_C1.jpg'],\n",
              "       ['JC973MD3_C2.jpg'],\n",
              "       ['CAD5EPAI_C2.jpg'],\n",
              "       ['O6P2TYPI_C1.jpg'],\n",
              "       ['VVJXMRRV_C1.jpg'],\n",
              "       ['OG1VNL4J_C2.jpg'],\n",
              "       ['00001276_0001_00000004.jpg'],\n",
              "       ['BB56GDPS_C2.jpg'],\n",
              "       ['7IMETMX8_C2.jpg'],\n",
              "       ['NR6BMIFM_C1.jpg'],\n",
              "       ['M4S772DG_C1.jpg'],\n",
              "       ['BX6PX748_C1.jpg'],\n",
              "       ['VQ4AZFGQ_C2.jpg'],\n",
              "       ['YQ9AXFEE_C2.jpg'],\n",
              "       ['84UZX4XD_C2.jpg'],\n",
              "       ['6M2RL5DD_C1.jpg'],\n",
              "       ['E1OEUYUZ_C2.jpg'],\n",
              "       ['CG82W3QN_C1.jpg'],\n",
              "       ['JRP9JPNT_C1.jpg'],\n",
              "       ['EKD2IL37_C2.jpg'],\n",
              "       ['2MO3SLWK_C1.jpg'],\n",
              "       ['D7UTQ0WX_C2.jpg'],\n",
              "       ['ISDSGHLG_C2.jpg'],\n",
              "       ['ZFHAHY1F_C1.jpg'],\n",
              "       ['UKH54P9K_C2.jpg'],\n",
              "       ['BLOQQQ76_C2.jpg'],\n",
              "       ['65534NN7_C2.jpg'],\n",
              "       ['62OEB5W2_C1.jpg'],\n",
              "       ['P7742UI1_C2.jpg'],\n",
              "       ['00000981_0002_00000019.jpg'],\n",
              "       ['63N4U9NB_C1.jpg'],\n",
              "       ['O55Z55L1_C2.jpg'],\n",
              "       ['GBRJSY3D_C2.jpg'],\n",
              "       ['NATUN3SD_C2.jpg'],\n",
              "       ['5VABVX4O_C2.jpg'],\n",
              "       ['ODS5YWTK_C2.jpg'],\n",
              "       ['PLHTZ3DC_C2.jpg'],\n",
              "       ['9YTG3PY1_C1.jpg'],\n",
              "       ['EAJ96B85_C1.jpg'],\n",
              "       ['K6PXWXY6_C2.jpg'],\n",
              "       ['1UGYFMFM_C2.jpg'],\n",
              "       ['RTSMJ46E_C1.jpg'],\n",
              "       ['RU6SIJA2_C2.jpg'],\n",
              "       ['OEAN4A3O_C2.jpg'],\n",
              "       ['IKFTE9YJ_C2.jpg'],\n",
              "       ['XYLLYPYI_C1.jpg'],\n",
              "       ['WVYE6T2W_C1.jpg'],\n",
              "       ['ZPW59KNM_C2.jpg'],\n",
              "       ['XOQPD5ZN_C2.jpg'],\n",
              "       ['TTE7TYLV_C1.jpg'],\n",
              "       ['XK2LN928_C2.jpg'],\n",
              "       ['RGJMMPUA_C2.jpg'],\n",
              "       ['SP9K0IMK_C1.jpg'],\n",
              "       ['V6UNXBER_C1.jpg'],\n",
              "       ['G9RRHURY_C1.jpg'],\n",
              "       ['PQ25J8HC_C2.jpg'],\n",
              "       ['NZXI30O6_C1.jpg'],\n",
              "       ['MFURT56E_C2.jpg'],\n",
              "       ['WUCWAH6Q_C2.jpg'],\n",
              "       ['00001571_0001_00000000.jpg'],\n",
              "       ['934O3JDL_C1.jpg'],\n",
              "       ['YOHGR3EF_C1.jpg'],\n",
              "       ['BLEDE20M_C1.jpg'],\n",
              "       ['R2RQ3WDV_C1.jpg'],\n",
              "       ['LYZQXWAR_C2.jpg'],\n",
              "       ['19YO4N3C_C1.jpg'],\n",
              "       ['QX089DUB_C2.jpg'],\n",
              "       ['Z13QOB6D_C2.jpg'],\n",
              "       ['00000794_0001_00000008.jpg'],\n",
              "       ['10D0CNFT_C1.jpg'],\n",
              "       ['PV2L89PT_C1.jpg'],\n",
              "       ['ZT8IA5L8_C1.jpg'],\n",
              "       ['6PIOOVOB_C1.jpg'],\n",
              "       ['5R87A9FT_C2.jpg'],\n",
              "       ['0KNU2VS9_C1.jpg'],\n",
              "       ['SXVDR3Q0_C1.jpg'],\n",
              "       ['YS04M2YI_C1.jpg'],\n",
              "       ['J2R0UBWQ_C1.jpg'],\n",
              "       ['KNVLMTGD_C1.jpg'],\n",
              "       ['802ZTGJC_C2.jpg'],\n",
              "       ['90H2TUKT_C1.jpg'],\n",
              "       ['AJ7HPY4Y_C1.jpg'],\n",
              "       ['OIQ3NX2M_C2.jpg'],\n",
              "       ['00001571_0002_00000005.jpg'],\n",
              "       ['ML297BIG_C2.jpg'],\n",
              "       ['BUQ2YYRF_C1.jpg'],\n",
              "       ['WKERD9HY_C1.jpg'],\n",
              "       ['8N841T2O_C1.jpg'],\n",
              "       ['QO45P19T_C2.jpg'],\n",
              "       ['HO68RTB9_C1.jpg'],\n",
              "       ['Y8BOKFEC_C2.jpg'],\n",
              "       ['NYN4QVVA_C1.jpg'],\n",
              "       ['00000647_0001_00000002.jpg'],\n",
              "       ['WSQ75SF5_C1.jpg'],\n",
              "       ['P8NL5MW3_C1.jpg'],\n",
              "       ['B508PUYD_C1.jpg'],\n",
              "       ['80XXNOSB_C1.jpg'],\n",
              "       ['DN0D8KRD_C1.jpg'],\n",
              "       ['PYL8TCVL_C1.jpg'],\n",
              "       ['9ZMTTNKV_C2.jpg'],\n",
              "       ['7DVVWMAE_C1.jpg'],\n",
              "       ['4TABUQGM_C1.jpg'],\n",
              "       ['FOVIFLXJ_C2.jpg'],\n",
              "       ['RMM9LGN3_C2.jpg'],\n",
              "       ['NEZU5WFL_C2.jpg'],\n",
              "       ['41S8YNMT_C2.jpg'],\n",
              "       ['BLB6AW0Q_C1.jpg'],\n",
              "       ['KC5POP6C_C2.jpg'],\n",
              "       ['UELV61QG_C1.jpg'],\n",
              "       ['8KCSF72A_C2.jpg'],\n",
              "       ['J7Q5YNB3_C1.jpg'],\n",
              "       ['98L6DVDK_C2.jpg'],\n",
              "       ['XSBWHL3F_C2.jpg'],\n",
              "       ['FH99LTCP_C2.jpg'],\n",
              "       ['17T7JSZI_C2.jpg'],\n",
              "       ['D024D4HJ_C1.jpg'],\n",
              "       ['CAYJ50BK_C2.jpg'],\n",
              "       ['DPDLIHY6_C2.jpg'],\n",
              "       ['TX826S3K_C2.jpg'],\n",
              "       ['FINLWG2I_C2.jpg'],\n",
              "       ['A7MJA5JE_C1.jpg'],\n",
              "       ['YX9Z6LJD_C1.jpg'],\n",
              "       ['DAAWILUT_C1.jpg'],\n",
              "       ['YE31530K_C2.jpg'],\n",
              "       ['0CDW0O31_C2.jpg'],\n",
              "       ['C98ZTBJS_C1.jpg'],\n",
              "       ['20UKWNE4_C1.jpg'],\n",
              "       ['ARG1UH1G_C1.jpg'],\n",
              "       ['0YNYZ47A_C2.jpg'],\n",
              "       ['OCTWI9GT_C2.jpg'],\n",
              "       ['WCT6MA1B_C1.jpg'],\n",
              "       ['VS0B4ZKS_C2.jpg'],\n",
              "       ['1U1IJTTA_C1.jpg'],\n",
              "       ['3QSOW1SC_C2.jpg'],\n",
              "       ['DQ6KUOWC_C1.jpg'],\n",
              "       ['WL08YWV1_C1.jpg'],\n",
              "       ['IJ9UER09_C1.jpg'],\n",
              "       ['KL5THL98_C1.jpg'],\n",
              "       ['Z0SMIKH0_C2.jpg'],\n",
              "       ['00001434_0002_00000004.jpg'],\n",
              "       ['JW1E6Y7T_C1.jpg'],\n",
              "       ['5P6LZ80F_C2.jpg'],\n",
              "       ['ZJH934TW_C1.jpg'],\n",
              "       ['00000577_0001_00000003.jpg'],\n",
              "       ['A57I5L6I_C2.jpg'],\n",
              "       ['10UJ1FQX_C2.jpg'],\n",
              "       ['00001417_0001_00000008.jpg'],\n",
              "       ['G2MG2JO2_C2.jpg'],\n",
              "       ['BP3382AG_C2.jpg'],\n",
              "       ['2QIYVGJH_C1.jpg'],\n",
              "       ['IEB6MYL1_C2.jpg'],\n",
              "       ['WCEVTK9M_C1.jpg'],\n",
              "       ['RE5CS05K_C2.jpg'],\n",
              "       ['866FNHQR_C2.jpg'],\n",
              "       ['OFP4TYEQ_C2.jpg'],\n",
              "       ['YSPNXWPY_C1.jpg'],\n",
              "       ['VJ1IGZ8C_C2.jpg'],\n",
              "       ['QJ83FPM3_C1.jpg'],\n",
              "       ['X8VX3F0P_C2.jpg'],\n",
              "       ['S0GX3NHC_C2.jpg'],\n",
              "       ['GGOR8RKT_C1.jpg'],\n",
              "       ['DV60P12N_C1.jpg'],\n",
              "       ['GTYWGJJY_C2.jpg'],\n",
              "       ['X877BB76_C2.jpg'],\n",
              "       ['OCNNCPU4_C1.jpg'],\n",
              "       ['W4YDRQRO_C1.jpg'],\n",
              "       ['98FATE1O_C1.jpg'],\n",
              "       ['PKK9G0SN_C2.jpg'],\n",
              "       ['OMPTW8RP_C1.jpg'],\n",
              "       ['529YU7VD_C2.jpg'],\n",
              "       ['00000860_0001_00000012.jpg'],\n",
              "       ['YLCBPQD9_C1.jpg'],\n",
              "       ['3Q284UM4_C1.jpg'],\n",
              "       ['TGHUVIC8_C1.jpg'],\n",
              "       ['NSRSTRD3_C2.jpg'],\n",
              "       ['R5NIUAU6_C2.jpg'],\n",
              "       ['00001362_0001_00000006.jpg'],\n",
              "       ['HP97Z3EL_C1.jpg'],\n",
              "       ['1NEXKDXW_C2.jpg'],\n",
              "       ['N8GT3GW2_C1.jpg'],\n",
              "       ['NWTX4V21_C2.jpg'],\n",
              "       ['2QMUBX41_C2.jpg'],\n",
              "       ['J8W2S4S6_C2.jpg'],\n",
              "       ['48HI69KR_C2.jpg'],\n",
              "       ['00001330_0001_00000000.jpg'],\n",
              "       ['K3QE0M9S_C2.jpg'],\n",
              "       ['8V29VQWS_C1.jpg'],\n",
              "       ['5WOOH0XZ_C2.jpg'],\n",
              "       ['AXELI7NE_C1.jpg'],\n",
              "       ['T3CETWNX_C2.jpg'],\n",
              "       ['1BQDZ9SC_C2.jpg'],\n",
              "       ['EED9GYRS_C2.jpg'],\n",
              "       ['HH8FAEJA_C1.jpg'],\n",
              "       ['QVBMQW9E_C2.jpg'],\n",
              "       ['5F4FJRA9_C2.jpg'],\n",
              "       ['LREX48OY_C2.jpg'],\n",
              "       ['BJLB6X41_C1.jpg'],\n",
              "       ['ZHKDOWLY_C1.jpg'],\n",
              "       ['MRKBIH0V_C2.jpg'],\n",
              "       ['00000418_0002_00000004.jpg'],\n",
              "       ['0CYAUT9U_C2.jpg'],\n",
              "       ['7562HWOM_C1.jpg'],\n",
              "       ['67HTHEG7_C1.jpg'],\n",
              "       ['F4XICW58_C2.jpg'],\n",
              "       ['5O12QX76_C1.jpg'],\n",
              "       ['5A528E5S_C2.jpg'],\n",
              "       ['9WQ8QNW9_C1.jpg'],\n",
              "       ['13JVVID7_C2.jpg'],\n",
              "       ['7G9VY70Q_C1.jpg'],\n",
              "       ['B8FPL9LI_C2.jpg'],\n",
              "       ['0A19P1F1_C2.jpg'],\n",
              "       ['1WKLQYAS_C1.jpg'],\n",
              "       ['4UDLPT7U_C2.jpg'],\n",
              "       ['N10ER6J0_C1.jpg'],\n",
              "       ['HYHQHIW6_C1.jpg'],\n",
              "       ['5E9MRG00_C1.jpg'],\n",
              "       ['CTERSB9X_C1.jpg'],\n",
              "       ['RAJUGA99_C1.jpg'],\n",
              "       ['H3PEPHJ4_C1.jpg'],\n",
              "       ['RMRXIVXF_C1.jpg'],\n",
              "       ['IFJS711D_C1.jpg'],\n",
              "       ['PUIA5ZHB_C2.jpg'],\n",
              "       ['ILCLHL3B_C2.jpg'],\n",
              "       ['UI35A7V0_C1.jpg'],\n",
              "       ['LVF9LPO5_C2.jpg'],\n",
              "       ['IZP2JUTK_C2.jpg'],\n",
              "       ['JAWE8FJS_C2.jpg'],\n",
              "       ['8RJL6WZM_C1.jpg'],\n",
              "       ['X24OGXZ2_C2.jpg'],\n",
              "       ['3YHNWJ90_C2.jpg'],\n",
              "       ['TJP3JG3U_C1.jpg'],\n",
              "       ['XYYSSI88_C1.jpg'],\n",
              "       ['EUN7QWNE_C2.jpg'],\n",
              "       ['XIUK86O2_C2.jpg'],\n",
              "       ['K0NX4DWM_C1.jpg'],\n",
              "       ['2OH3JUWZ_C1.jpg'],\n",
              "       ['5H5PUHZ2_C1.jpg'],\n",
              "       ['8B4OJDGV_C2.jpg'],\n",
              "       ['CWIMH6E0_C1.jpg'],\n",
              "       ['VKPNLB8Y_C2.jpg'],\n",
              "       ['ZI89G6NC_C2.jpg'],\n",
              "       ['53O7O7IX_C1.jpg'],\n",
              "       ['XFKDG4MR_C1.jpg'],\n",
              "       ['R01WPBLB_C1.jpg'],\n",
              "       ['EZOMYTU3_C2.jpg'],\n",
              "       ['NQTELUO2_C2.jpg'],\n",
              "       ['AL0H8NDJ_C2.jpg'],\n",
              "       ['PFRUII1Z_C1.jpg'],\n",
              "       ['7IUYPZJL_C1.jpg'],\n",
              "       ['TI28Y6FV_C1.jpg'],\n",
              "       ['31POV62G_C2.jpg'],\n",
              "       ['MQ7K8I4G_C1.jpg'],\n",
              "       ['BD48LBMY_C2.jpg'],\n",
              "       ['HVQUVQLD_C2.jpg'],\n",
              "       ['00001679_0001_00000005.jpg'],\n",
              "       ['RKF8FL83_C1.jpg'],\n",
              "       ['KIC1E8Y0_C2.jpg'],\n",
              "       ['SH3E2TD9_C1.jpg'],\n",
              "       ['3TPJA2FC_C2.jpg'],\n",
              "       ['YOHQCM0J_C1.jpg'],\n",
              "       ['OU2YTOR8_C2.jpg'],\n",
              "       ['GUL21J0H_C2.jpg'],\n",
              "       ['G9530OAU_C1.jpg'],\n",
              "       ['YDC7FOWK_C2.jpg'],\n",
              "       ['GFZYU15C_C2.jpg'],\n",
              "       ['7FMH44J6_C2.jpg'],\n",
              "       ['CP9HDTTZ_C2.jpg'],\n",
              "       ['RKEIHTF4_C1.jpg'],\n",
              "       ['DCXG1XJV_C2.jpg'],\n",
              "       ['SVORGB77_C2.jpg'],\n",
              "       ['26Y4YREV_C1.jpg'],\n",
              "       ['DV4HGVHQ_C1.jpg'],\n",
              "       ['00000804_0001_00000007.jpg'],\n",
              "       ['CVYM7TRE_C2.jpg'],\n",
              "       ['WWQPMTSP_C1.jpg'],\n",
              "       ['UFDLNXL5_C2.jpg'],\n",
              "       ['AMT8LFKZ_C1.jpg'],\n",
              "       ['SNGN1D2Y_C2.jpg'],\n",
              "       ['6ZNG76H0_C1.jpg'],\n",
              "       ['9B66KKO0_C2.jpg'],\n",
              "       ['T2VE3HQN_C2.jpg'],\n",
              "       ['F2TVGQC1_C1.jpg'],\n",
              "       ['RRD32AXQ_C2.jpg'],\n",
              "       ['920X6X90_C1.jpg'],\n",
              "       ['YZWW6F5W_C2.jpg'],\n",
              "       ['VNL3VOAS_C1.jpg'],\n",
              "       ['ZG9QZ56Q_C1.jpg'],\n",
              "       ['KXN5CF9L_C1.jpg'],\n",
              "       ['H7YSNJ9A_C2.jpg'],\n",
              "       ['00001362_0001_00000003.jpg'],\n",
              "       ['JELS53XV_C2.jpg'],\n",
              "       ['53M22WTU_C2.jpg'],\n",
              "       ['ZOTBLK0M_C1.jpg'],\n",
              "       ['PRGTA2R4_C2.jpg'],\n",
              "       ['HPNJVXQD_C2.jpg'],\n",
              "       ['KT3T8W1E_C2.jpg'],\n",
              "       ['80T4EV0H_C1.jpg'],\n",
              "       ['1XCN3YAD_C2.jpg'],\n",
              "       ['60Z8644H_C1.jpg'],\n",
              "       ['0A342DC0_C1.jpg'],\n",
              "       ['QXOWQ3SH_C1.jpg'],\n",
              "       ['LW1AOIW2_C2.jpg'],\n",
              "       ['5CKDGQG2_C2.jpg'],\n",
              "       ['VYADZ36W_C1.jpg'],\n",
              "       ['J1I7I8ZH_C1.jpg'],\n",
              "       ['1CY73TTG_C2.jpg'],\n",
              "       ['D6JIHB6B_C1.jpg'],\n",
              "       ['W0FJP2ZN_C2.jpg'],\n",
              "       ['YWV1X6VJ_C1.jpg'],\n",
              "       ['XXIRT8C0_C2.jpg'],\n",
              "       ['00000114_0002_00000004.jpg'],\n",
              "       ['RHDI1DE6_C1.jpg'],\n",
              "       ['V2K0DDFK_C1.jpg'],\n",
              "       ['WWDJ92BL_C2.jpg'],\n",
              "       ['JCCG7XHA_C2.jpg'],\n",
              "       ['PXKV8OD3_C1.jpg'],\n",
              "       ['ZW07LXTH_C2.jpg'],\n",
              "       ['99S7F25E_C1.jpg'],\n",
              "       ['I4A43VP1_C2.jpg'],\n",
              "       ['ZKI49QXS_C1.jpg'],\n",
              "       ['FIT36XY6_C2.jpg'],\n",
              "       ['PK25U7FL_C1.jpg'],\n",
              "       ['YGWTR49D_C1.jpg'],\n",
              "       ['QZ4S4EB1_C2.jpg'],\n",
              "       ['O1U7HPUB_C1.jpg'],\n",
              "       ['VJ8D0PE4_C2.jpg'],\n",
              "       ['II9FZGBF_C1.jpg'],\n",
              "       ['I2NC38VQ_C2.jpg'],\n",
              "       ['WBQRDWGJ_C2.jpg'],\n",
              "       ['2GWPH14L_C1.jpg'],\n",
              "       ['KTBRQG1E_C2.jpg'],\n",
              "       ['ZCKQ4XYH_C1.jpg'],\n",
              "       ['YMGEFE3I_C2.jpg'],\n",
              "       ['7PS57WLH_C1.jpg'],\n",
              "       ['F5DNWPPR_C2.jpg'],\n",
              "       ['JZL5SRWD_C2.jpg'],\n",
              "       ['L4TQVNOT_C1.jpg'],\n",
              "       ['4W6JCPAV_C1.jpg'],\n",
              "       ['S3IEOUK4_C1.jpg'],\n",
              "       ['2XABUTB1_C1.jpg'],\n",
              "       ['MJNARNYG_C1.jpg'],\n",
              "       ['WVU471VP_C2.jpg'],\n",
              "       ['JI8P7A15_C1.jpg'],\n",
              "       ['TCZH48WQ_C2.jpg'],\n",
              "       ['00000351_0001_00000000.jpg'],\n",
              "       ['26ARBENZ_C1.jpg'],\n",
              "       ['AMLQOU95_C2.jpg'],\n",
              "       ['PWVE1BBJ_C1.jpg'],\n",
              "       ['RTMWAUQ7_C1.jpg'],\n",
              "       ['PZCR04I1_C2.jpg'],\n",
              "       ['B6WO06HE_C1.jpg'],\n",
              "       ['4PR7V830_C2.jpg'],\n",
              "       ['OYUDL1Z5_C1.jpg'],\n",
              "       ['ULG44YBT_C2.jpg'],\n",
              "       ['R2AD7WYA_C2.jpg'],\n",
              "       ['GGW64U0M_C1.jpg'],\n",
              "       ['SI3VGE9U_C2.jpg'],\n",
              "       ['T4QHKBLC_C1.jpg'],\n",
              "       ['ZE1OR91H_C1.jpg'],\n",
              "       ['CUI97S6H_C2.jpg'],\n",
              "       ['FLP2TEN7_C2.jpg'],\n",
              "       ['5RRSCDA9_C2.jpg'],\n",
              "       ['QBTKUABW_C1.jpg'],\n",
              "       ['5BF1F0F5_C1.jpg'],\n",
              "       ['2WES2LPG_C2.jpg'],\n",
              "       ['BKA2KNEX_C1.jpg'],\n",
              "       ['529DTT34_C2.jpg'],\n",
              "       ['JYKLZMQU_C2.jpg'],\n",
              "       ['1DQ14F7Y_C1.jpg'],\n",
              "       ['SVCFJPBR_C2.jpg'],\n",
              "       ['8HW0NVZY_C2.jpg'],\n",
              "       ['00000493_0002_00000005.jpg'],\n",
              "       ['CSD46UJY_C1.jpg'],\n",
              "       ['KWWYL5H2_C2.jpg'],\n",
              "       ['00000576_0002_00000006.jpg'],\n",
              "       ['SPJAO7VL_C1.jpg'],\n",
              "       ['6ZGFSBWQ_C1.jpg'],\n",
              "       ['SS4S5TRM_C2.jpg'],\n",
              "       ['JSCV4M7M_C2.jpg'],\n",
              "       ['DDFMS6HC_C1.jpg'],\n",
              "       ['QSO866A7_C2.jpg'],\n",
              "       ['2OXX6Z0Y_C1.jpg'],\n",
              "       ['LSRKTOKR_C2.jpg'],\n",
              "       ['E6DJ7VB2_C2.jpg'],\n",
              "       ['Z407MCZA_C2.jpg'],\n",
              "       ['NOTEGGS7_C1.jpg'],\n",
              "       ['RRG27T7T_C1.jpg'],\n",
              "       ['YMXW3ARI_C1.jpg'],\n",
              "       ['UA0L7SVK_C1.jpg'],\n",
              "       ['6L2XTJER_C1.jpg'],\n",
              "       ['7O5NNVM0_C2.jpg'],\n",
              "       ['CKDOOZ8L_C2.jpg'],\n",
              "       ['VUNRWY4W_C1.jpg'],\n",
              "       ['06VF1BDA_C1.jpg'],\n",
              "       ['V6OPHOB7_C1.jpg'],\n",
              "       ['W7E5Q01K_C1.jpg'],\n",
              "       ['QYRXXVWU_C2.jpg'],\n",
              "       ['Q0Z1Y1QI_C1.jpg'],\n",
              "       ['0JCX3WMB_C2.jpg'],\n",
              "       ['MGO4H6H3_C1.jpg'],\n",
              "       ['NNKR0C9B_C2.jpg'],\n",
              "       ['2EV5EMXK_C1.jpg'],\n",
              "       ['CDCAEQ3H_C1.jpg'],\n",
              "       ['XQ15YTGO_C1.jpg'],\n",
              "       ['PPFUZ9AB_C1.jpg'],\n",
              "       ['00001359_0002_00000007.jpg'],\n",
              "       ['2CFLX41I_C1.jpg'],\n",
              "       ['UOJR16EN_C1.jpg'],\n",
              "       ['YOL6W097_C1.jpg'],\n",
              "       ['MFIF9YCH_C2.jpg'],\n",
              "       ['PMK68KVT_C1.jpg'],\n",
              "       ['DBM5AYKU_C1.jpg'],\n",
              "       ['Y8WL5ROR_C2.jpg'],\n",
              "       ['00001447_0002_00000001.jpg'],\n",
              "       ['2X43F89F_C1.jpg'],\n",
              "       ['JL30626J_C1.jpg'],\n",
              "       ['6C2WFHRK_C1.jpg'],\n",
              "       ['9RQEIAXM_C1.jpg'],\n",
              "       ['MRJ0969R_C1.jpg'],\n",
              "       ['U8I7YDAU_C2.jpg'],\n",
              "       ['F24KYGD3_C2.jpg'],\n",
              "       ['5GKTCEUD_C2.jpg'],\n",
              "       ['D7PJPFX2_C2.jpg'],\n",
              "       ['CTGLENLW_C1.jpg'],\n",
              "       ['2TJ221ES_C1.jpg'],\n",
              "       ['R23DRUDB_C2.jpg'],\n",
              "       ['IUCCYCZ9_C2.jpg'],\n",
              "       ['PX9W78HI_C1.jpg'],\n",
              "       ['4BFDHD95_C2.jpg'],\n",
              "       ['3JT54H42_C1.jpg'],\n",
              "       ['42ZXY70Y_C2.jpg'],\n",
              "       ['8CVUG280_C2.jpg'],\n",
              "       ['00001178_0001_00000013.jpg'],\n",
              "       ['QJP9UXR1_C2.jpg'],\n",
              "       ['W453V65K_C2.jpg'],\n",
              "       ['PGIOZ3JR_C2.jpg'],\n",
              "       ['98VT10A1_C1.jpg'],\n",
              "       ['9NVK4AXK_C1.jpg'],\n",
              "       ['PQQQNGS4_C1.jpg'],\n",
              "       ['5NJL9T8D_C2.jpg'],\n",
              "       ['OZ32VNCZ_C1.jpg'],\n",
              "       ['95ZOTSOQ_C1.jpg'],\n",
              "       ['WY61QG1F_C2.jpg'],\n",
              "       ['3XZO7GZ9_C2.jpg'],\n",
              "       ['5L0XT3RI_C2.jpg'],\n",
              "       ['ZCE4KQ9J_C2.jpg'],\n",
              "       ['YM6OCWVY_C1.jpg'],\n",
              "       ['9E1N6GG0_C1.jpg'],\n",
              "       ['Y6KIXYFN_C1.jpg'],\n",
              "       ['00000286_0002_00000004.jpg'],\n",
              "       ['IJYPRIST_C1.jpg'],\n",
              "       ['TJXYJ01Q_C1.jpg'],\n",
              "       ['75D6C9TK_C2.jpg'],\n",
              "       ['MHP2KXQ8_C1.jpg'],\n",
              "       ['W5YQFO6Q_C1.jpg'],\n",
              "       ['8K4BY4Y5_C1.jpg'],\n",
              "       ['BQJF3ETQ_C1.jpg'],\n",
              "       ['JVKKQB68_C1.jpg'],\n",
              "       ['YOIV244B_C2.jpg'],\n",
              "       ['00001402_0001_00000001.jpg'],\n",
              "       ['BGUV9A98_C1.jpg'],\n",
              "       ['4A3U6OOK_C2.jpg'],\n",
              "       ['WOP07YFQ_C2.jpg'],\n",
              "       ['DMN070AU_C1.jpg'],\n",
              "       ['9ZEA76XR_C2.jpg'],\n",
              "       ['XN1BDBR9_C2.jpg'],\n",
              "       ['BLCGGALK_C2.jpg'],\n",
              "       ['UBRMDRPT_C2.jpg'],\n",
              "       ['00000995_0002_00000010.jpg'],\n",
              "       ['3PLAP4R5_C1.jpg'],\n",
              "       ['R55HBD7C_C1.jpg'],\n",
              "       ['F3V6OWR4_C1.jpg'],\n",
              "       ['WXZI3MF0_C2.jpg'],\n",
              "       ['U3XXNRXO_C1.jpg'],\n",
              "       ['KZPNS5W3_C2.jpg'],\n",
              "       ['8GHRI6CI_C2.jpg'],\n",
              "       ['CJ66EN7R_C1.jpg'],\n",
              "       ['VY1UFONO_C2.jpg'],\n",
              "       ['1YWUQ0SO_C2.jpg'],\n",
              "       ['V4E3BS8H_C1.jpg'],\n",
              "       ['KT6RT00K_C2.jpg'],\n",
              "       ['SCC5ZVI3_C2.jpg'],\n",
              "       ['MAG01C1H_C1.jpg'],\n",
              "       ['T7ZRW2S6_C2.jpg'],\n",
              "       ['HVZG7TKV_C2.jpg'],\n",
              "       ['QBBM1MPC_C2.jpg'],\n",
              "       ['24PJOR9J_C1.jpg'],\n",
              "       ['45XN22B0_C2.jpg'],\n",
              "       ['CNQ1S80B_C2.jpg'],\n",
              "       ['3C9M1CP9_C2.jpg'],\n",
              "       ['H5I6AOJ7_C1.jpg'],\n",
              "       ['4IUGW65D_C2.jpg'],\n",
              "       ['00001831_0001_00000000.jpg'],\n",
              "       ['A1LK5B5V_C2.jpg'],\n",
              "       ['4BFGFHJ9_C2.jpg'],\n",
              "       ['Q9KAR1FK_C1.jpg'],\n",
              "       ['DUJ1V46F_C2.jpg'],\n",
              "       ['5U6S8U0I_C2.jpg'],\n",
              "       ['7WS29ZHK_C1.jpg'],\n",
              "       ['0A6TKSYY_C2.jpg'],\n",
              "       ['1Z07NLX0_C1.jpg'],\n",
              "       ['27A3O2VB_C2.jpg'],\n",
              "       ['Z79E6W91_C1.jpg'],\n",
              "       ['TRW1W7MB_C1.jpg'],\n",
              "       ['3Z696V8U_C2.jpg'],\n",
              "       ['4WZNFF89_C2.jpg'],\n",
              "       ['0OHBNH4L_C2.jpg'],\n",
              "       ['EWJD4QA6_C1.jpg'],\n",
              "       ['X1569R7A_C1.jpg'],\n",
              "       ['KC1GE96W_C2.jpg'],\n",
              "       ['XBA7OO73_C2.jpg'],\n",
              "       ['LDC5FMSV_C2.jpg'],\n",
              "       ['XKDMMYWD_C1.jpg'],\n",
              "       ['F2PT32Z7_C2.jpg'],\n",
              "       ['K6ZKQ0VP_C2.jpg'],\n",
              "       ['3FQYJIQ7_C1.jpg'],\n",
              "       ['ELXZFOGS_C2.jpg'],\n",
              "       ['EHV3N137_C2.jpg'],\n",
              "       ['6V3V8EAB_C2.jpg'],\n",
              "       ['GKORLQ4B_C1.jpg'],\n",
              "       ['M8IEGIM6_C2.jpg'],\n",
              "       ['NAYL04R9_C1.jpg'],\n",
              "       ['2LTJG28B_C2.jpg'],\n",
              "       ['E8WSV20X_C2.jpg']], dtype='<U26')"
            ]
          },
          "metadata": {},
          "execution_count": 35
        }
      ]
    },
    {
      "cell_type": "code",
      "source": [
        "annot_label[0]"
      ],
      "metadata": {
        "colab": {
          "base_uri": "https://localhost:8080/"
        },
        "id": "R07m34N7YBe3",
        "outputId": "948ec02f-276a-4a9c-8ffb-e9a401e3a35b"
      },
      "execution_count": null,
      "outputs": [
        {
          "output_type": "execute_result",
          "data": {
            "text/plain": [
              "0"
            ]
          },
          "metadata": {},
          "execution_count": 36
        }
      ]
    },
    {
      "cell_type": "code",
      "source": [
        "w = 0\n",
        "h = 0\n",
        "path = '/content/vehicle_images/'\n",
        "for name in annot_name:\n",
        "    img_name = path+name[0]\n",
        "    img = cv2.imread(img_name)\n",
        "    he, wi, co = img.shape\n",
        "    w += wi\n",
        "    h += he"
      ],
      "metadata": {
        "id": "YyG1PcwyYIxU"
      },
      "execution_count": null,
      "outputs": []
    },
    {
      "cell_type": "code",
      "source": [
        "height = h/6000\n",
        "width = w/6000\n",
        "print(f'height: {height}, width: {width}')"
      ],
      "metadata": {
        "colab": {
          "base_uri": "https://localhost:8080/"
        },
        "id": "Ew2sD5BoYOgq",
        "outputId": "23c55adc-746a-48b0-bef4-7aed3a3cf6c7"
      },
      "execution_count": null,
      "outputs": [
        {
          "output_type": "stream",
          "name": "stdout",
          "text": [
            "height: 30.740166666666667, width: 45.54866666666667\n"
          ]
        }
      ]
    },
    {
      "cell_type": "code",
      "source": [
        "data, label = [], []\n",
        "path = '/content/vehicle_images/'\n",
        "for i in range(600):\n",
        "    img_name = path+annot_name[i][0]\n",
        "    img = cv2.imread(img_name)\n",
        "    img = cv2.cvtColor(img, cv2.COLOR_BGR2RGB)\n",
        "    img = cv2.resize(img, (int(height), int(width)))\n",
        "    data.append(img)\n",
        "    label.append(annot_label[i])"
      ],
      "metadata": {
        "id": "hG99FuPaYsnP"
      },
      "execution_count": null,
      "outputs": []
    },
    {
      "cell_type": "code",
      "source": [
        "len(data), len(label)"
      ],
      "metadata": {
        "colab": {
          "base_uri": "https://localhost:8080/"
        },
        "id": "WypzmX43YuhJ",
        "outputId": "f880c735-360c-4f65-bf42-1782881ff099"
      },
      "execution_count": null,
      "outputs": [
        {
          "output_type": "execute_result",
          "data": {
            "text/plain": [
              "(600, 600)"
            ]
          },
          "metadata": {},
          "execution_count": 40
        }
      ]
    },
    {
      "cell_type": "code",
      "source": [
        "X_train, X_test, y_train, y_test = train_test_split(data, label, test_size=0.2, random_state=42, stratify=label)\n",
        "X_train, X_val, y_train, y_val = train_test_split(X_train, y_train, test_size=0.2, random_state=42, stratify=y_train)"
      ],
      "metadata": {
        "id": "oGI5_Q5bYw7Q"
      },
      "execution_count": null,
      "outputs": []
    },
    {
      "cell_type": "code",
      "source": [
        "for i in range(len(X_train)):\n",
        "  X_train[i]=cv2.normalize(X_train[i], None, alpha=0, beta=1, norm_type=cv2.NORM_MINMAX)\n",
        "for i in range(len(X_val)):\n",
        "  X_val[i]=cv2.normalize(X_val[i], None, alpha=0, beta=1, norm_type=cv2.NORM_MINMAX)\n",
        "for i in range(len(X_test)):\n",
        "  X_test[i]=cv2.normalize(X_test[i], None, alpha=0, beta=1, norm_type=cv2.NORM_MINMAX) "
      ],
      "metadata": {
        "id": "ME4lH58lYyaL"
      },
      "execution_count": null,
      "outputs": []
    },
    {
      "cell_type": "code",
      "source": [
        "X_train = np.array(X_train)\n",
        "X_val = np.array(X_val)\n",
        "X_test = np.array(X_test)\n",
        "y_train = np.array(y_train)\n",
        "y_val = np.array(y_val)\n",
        "y_test = np.array(y_test)"
      ],
      "metadata": {
        "id": "QUJa951VZDRm"
      },
      "execution_count": null,
      "outputs": []
    },
    {
      "cell_type": "code",
      "source": [
        "d1,d2,d3,d4 = X_train.shape\n",
        "X_train = X_train.reshape((d1, d2*d3*d4))\n",
        "d1,d2,d3,d4 = X_val.shape\n",
        "X_val = X_val.reshape((d1, d2*d3*d4))\n",
        "d1,d2,d3,d4 = X_test.shape\n",
        "X_test = X_test.reshape((d1, d2*d3*d4))"
      ],
      "metadata": {
        "id": "4cwDAkblhxwI"
      },
      "execution_count": null,
      "outputs": []
    },
    {
      "cell_type": "code",
      "source": [
        "#Hyperparameter Tuning \n",
        "import pandas as pd\n",
        "import numpy as np\n",
        "import matplotlib.pyplot as plt\n",
        "import seaborn as sns\n",
        "from sklearn.neighbors import KNeighborsClassifier\n",
        "from sklearn.metrics import classification_report\n",
        "from sklearn.model_selection import train_test_split\n",
        "from sklearn.metrics import roc_auc_score\n",
        "from sklearn.model_selection import GridSearchCV\n",
        "p=[1,2]\n",
        "#Convert to dictionary\n",
        "hyperparameters = dict( n_neighbors=[1,3,5], p=p)\n",
        "#Create new KNN object\n",
        "knn_2 = KNeighborsClassifier()\n",
        "#Use GridSearch\n",
        "clf = GridSearchCV(knn_2, hyperparameters, cv=5)\n",
        "#Fit the model\n",
        "best_model = clf.fit(X_train,y_train)\n",
        "#Print The value of best Hyperparameters\n",
        "print('Best p:', best_model.best_estimator_.get_params()['p'])\n",
        "print('Best n_neighbors:', best_model.best_estimator_.get_params()['n_neighbors'])"
      ],
      "metadata": {
        "colab": {
          "base_uri": "https://localhost:8080/"
        },
        "id": "OmrOtooRnMW5",
        "outputId": "28bd0676-50d0-4409-8162-03747ef6fa44"
      },
      "execution_count": null,
      "outputs": [
        {
          "output_type": "stream",
          "name": "stdout",
          "text": [
            "Best p: 1\n",
            "Best n_neighbors: 3\n"
          ]
        }
      ]
    },
    {
      "cell_type": "code",
      "source": [
        "from sklearn.neighbors import KNeighborsClassifier\n",
        "from sklearn.metrics import accuracy_score\n",
        "from sklearn.metrics import precision_score\n",
        "from sklearn.metrics import recall_score\n",
        "from sklearn.metrics import f1_score\n",
        "KNN=KNeighborsClassifier(n_neighbors=3,metric=\"manhattan\")\n",
        "KNN.fit(X_train,y_train)\n",
        "y_pred=KNN.predict(X_test)\n",
        "accuracy=accuracy_score(y_test,y_pred)\n",
        "precision=precision_score(y_test,y_pred,average='macro')\n",
        "recall=recall_score(y_test,y_pred,average='macro')\n",
        "f1score=f1_score(y_test,y_pred,average='macro')\n",
        "print(f'Accuracy={accuracy},Precision={precision},Recall={recall},F1Score={f1_score}')"
      ],
      "metadata": {
        "colab": {
          "base_uri": "https://localhost:8080/"
        },
        "id": "1ZwGBH82mlVM",
        "outputId": "7356a8c7-9637-49e3-a5bf-ccccca7cfbba"
      },
      "execution_count": null,
      "outputs": [
        {
          "output_type": "stream",
          "name": "stdout",
          "text": [
            "Accuracy=0.275,Precision=0.3254668196047506,Recall=0.27499999999999997,F1Score=<function f1_score at 0x7f6c04195710>\n"
          ]
        }
      ]
    },
    {
      "cell_type": "code",
      "source": [
        "from sklearn.metrics import classification_report\n",
        "print(classification_report(y_test, y_pred))"
      ],
      "metadata": {
        "colab": {
          "base_uri": "https://localhost:8080/"
        },
        "id": "yfcYem07mmKa",
        "outputId": "16fd3a3d-330c-4b91-edff-3d3d31c408b4"
      },
      "execution_count": null,
      "outputs": [
        {
          "output_type": "stream",
          "name": "stdout",
          "text": [
            "              precision    recall  f1-score   support\n",
            "\n",
            "           0       0.14      0.25      0.18        20\n",
            "           1       0.21      0.30      0.24        20\n",
            "           2       0.23      0.15      0.18        20\n",
            "           3       0.48      0.60      0.53        20\n",
            "           4       0.40      0.20      0.27        20\n",
            "           5       0.50      0.15      0.23        20\n",
            "\n",
            "    accuracy                           0.28       120\n",
            "   macro avg       0.33      0.27      0.27       120\n",
            "weighted avg       0.33      0.28      0.27       120\n",
            "\n"
          ]
        }
      ]
    },
    {
      "cell_type": "code",
      "source": [
        "cm = confusion_matrix(y_test, y_pred)\n",
        "cm_df = pd.DataFrame(cm,\n",
        "                     index = ['Sedan', 'Hatchback', 'SUV', 'Bus', 'Lorry', 'Truck'], \n",
        "                     columns = ['Sedan', 'Hatchback', 'SUV', 'Bus', 'Lorry', 'Truck'])"
      ],
      "metadata": {
        "id": "BlTtq1OYm83B"
      },
      "execution_count": null,
      "outputs": []
    },
    {
      "cell_type": "code",
      "source": [
        "plt.figure(figsize=(5,4))\n",
        "sns.heatmap(cm_df, annot=True)\n",
        "plt.title('Confusion Matrix')\n",
        "plt.ylabel('Actal Values')\n",
        "plt.xlabel('Predicted Values')\n",
        "plt.show()"
      ],
      "metadata": {
        "id": "EHbXSsxdqHsJ",
        "colab": {
          "base_uri": "https://localhost:8080/",
          "height": 338
        },
        "outputId": "a24b4753-1257-40a1-e764-49be056e4f4d"
      },
      "execution_count": null,
      "outputs": [
        {
          "output_type": "display_data",
          "data": {
            "text/plain": [
              "<Figure size 360x288 with 2 Axes>"
            ],
            "image/png": "[encoded data removed]"
          },
          "metadata": {
            "needs_background": "light"
          }
        }
      ]
    },
    {
      "cell_type": "code",
      "source": [
        "from imblearn.under_sampling import RandomUnderSampler\n",
        "\n",
        "strategy = {0:86, 1:95, 2:78, 3:90, 4:83, 5:74, 6:100}\n",
        "undersample = RandomUnderSampler(sampling_strategy = strategy)\n",
        "X, y = np.array(list(annotations.keys())), np.array(list(annotations.values()))\n",
        "X = X.reshape(-1,1)\n",
        "y = y.reshape(-1,1)\n",
        "annot_name, annot_label = undersample.fit_resample(X, y)\n",
        "Counter(annot_label)"
      ],
      "metadata": {
        "id": "HvICXSciqeIM",
        "colab": {
          "base_uri": "https://localhost:8080/"
        },
        "outputId": "18549fe2-a877-48a6-fd69-2b1c7eb8d090"
      },
      "execution_count": null,
      "outputs": [
        {
          "output_type": "execute_result",
          "data": {
            "text/plain": [
              "Counter({0: 86, 1: 95, 2: 78, 3: 90, 4: 83, 5: 74, 6: 100})"
            ]
          },
          "metadata": {},
          "execution_count": 19
        }
      ]
    },
    {
      "cell_type": "code",
      "source": [
        "w = 0\n",
        "h = 0\n",
        "path = '/content/vehicle_images/'\n",
        "for name in annot_name:\n",
        "    img_name = path+name[0]\n",
        "    img = cv2.imread(img_name)\n",
        "    he, wi, co = img.shape\n",
        "    w += wi\n",
        "    h += he"
      ],
      "metadata": {
        "id": "lEWA2Ndh0K_o"
      },
      "execution_count": null,
      "outputs": []
    },
    {
      "cell_type": "code",
      "source": [
        "height = h/6000\n",
        "width = w/6000\n",
        "print(f'height: {height}, width: {width}')"
      ],
      "metadata": {
        "colab": {
          "base_uri": "https://localhost:8080/"
        },
        "id": "s9paBiff0LCK",
        "outputId": "082ee29e-7ffc-403e-8bef-eb23e263d5b1"
      },
      "execution_count": null,
      "outputs": [
        {
          "output_type": "stream",
          "name": "stdout",
          "text": [
            "height: 26.211333333333332, width: 40.55533333333333\n"
          ]
        }
      ]
    },
    {
      "cell_type": "code",
      "source": [
        "data, label = [], []\n",
        "path = '/content/vehicle_images/'\n",
        "for i in range(501):\n",
        "    img_name = path+annot_name[i][0]\n",
        "    img = cv2.imread(img_name)\n",
        "    img = cv2.cvtColor(img, cv2.COLOR_BGR2RGB)\n",
        "    img = cv2.resize(img, (int(height), int(width)))\n",
        "    data.append(img)\n",
        "    label.append(annot_label[i])"
      ],
      "metadata": {
        "id": "Kh4V8nRh0LFP"
      },
      "execution_count": null,
      "outputs": []
    },
    {
      "cell_type": "code",
      "source": [
        "X_train, X_test, y_train, y_test = train_test_split(data, label, test_size=0.2, random_state=42, stratify=label)\n",
        "X_train, X_val, y_train, y_val = train_test_split(X_train, y_train, test_size=0.2, random_state=42, stratify=y_train)"
      ],
      "metadata": {
        "id": "HCIbj7cf0LIq"
      },
      "execution_count": null,
      "outputs": []
    },
    {
      "cell_type": "code",
      "source": [
        "for i in range(len(X_train)):\n",
        "  X_train[i]=cv2.normalize(X_train[i], None, alpha=0, beta=1, norm_type=cv2.NORM_MINMAX)\n",
        "for i in range(len(X_val)):\n",
        "  X_val[i]=cv2.normalize(X_val[i], None, alpha=0, beta=1, norm_type=cv2.NORM_MINMAX)\n",
        "for i in range(len(X_test)):\n",
        "  X_test[i]=cv2.normalize(X_test[i], None, alpha=0, beta=1, norm_type=cv2.NORM_MINMAX) "
      ],
      "metadata": {
        "id": "HPWLoZUf0fIt"
      },
      "execution_count": null,
      "outputs": []
    },
    {
      "cell_type": "code",
      "source": [
        "X_train = np.array(X_train)\n",
        "X_val = np.array(X_val)\n",
        "X_test = np.array(X_test)\n",
        "y_train = np.array(y_train)\n",
        "y_val = np.array(y_val)\n",
        "y_test = np.array(y_test)"
      ],
      "metadata": {
        "id": "DLVieAmb0sXz"
      },
      "execution_count": null,
      "outputs": []
    },
    {
      "cell_type": "code",
      "source": [
        "d1,d2,d3,d4 = X_train.shape\n",
        "X_train = X_train.reshape((d1, d2*d3*d4))\n",
        "d1,d2,d3,d4 = X_val.shape\n",
        "X_val = X_val.reshape((d1, d2*d3*d4))\n",
        "d1,d2,d3,d4 = X_test.shape\n",
        "X_test = X_test.reshape((d1, d2*d3*d4))"
      ],
      "metadata": {
        "id": "cGbKolQ20si9"
      },
      "execution_count": null,
      "outputs": []
    },
    {
      "cell_type": "code",
      "source": [
        "#Hyperparameter Tuning \n",
        "import pandas as pd\n",
        "import numpy as np\n",
        "import matplotlib.pyplot as plt\n",
        "import seaborn as sns\n",
        "from sklearn.neighbors import KNeighborsClassifier\n",
        "from sklearn.metrics import classification_report\n",
        "from sklearn.model_selection import train_test_split\n",
        "from sklearn.metrics import roc_auc_score\n",
        "from sklearn.model_selection import GridSearchCV\n",
        "p=[1,2]\n",
        "#Convert to dictionary\n",
        "hyperparameters = dict( n_neighbors=[1,3,5], p=p)\n",
        "#Create new KNN object\n",
        "knn_2 = KNeighborsClassifier()\n",
        "#Use GridSearch\n",
        "clf = GridSearchCV(knn_2, hyperparameters, cv=5)\n",
        "#Fit the model\n",
        "best_model = clf.fit(X_train,y_train)\n",
        "#Print The value of best Hyperparameters\n",
        "print('Best p:', best_model.best_estimator_.get_params()['p'])\n",
        "print('Best n_neighbors:', best_model.best_estimator_.get_params()['n_neighbors'])"
      ],
      "metadata": {
        "colab": {
          "base_uri": "https://localhost:8080/"
        },
        "id": "O1NlnjD60LRa",
        "outputId": "8fc34edc-e014-47aa-f72c-a6bcf38ec809"
      },
      "execution_count": null,
      "outputs": [
        {
          "output_type": "stream",
          "name": "stdout",
          "text": [
            "Best p: 1\n",
            "Best n_neighbors: 1\n"
          ]
        }
      ]
    },
    {
      "cell_type": "code",
      "source": [
        "from sklearn.neighbors import KNeighborsClassifier\n",
        "from sklearn.metrics import accuracy_score\n",
        "from sklearn.metrics import precision_score\n",
        "from sklearn.metrics import recall_score\n",
        "from sklearn.metrics import f1_score\n",
        "KNN=KNeighborsClassifier(n_neighbors=1,metric=\"manhattan\")\n",
        "KNN.fit(X_train,y_train)\n",
        "y_pred=KNN.predict(X_test)\n",
        "accuracy=accuracy_score(y_test,y_pred)\n",
        "precision=precision_score(y_test,y_pred,average='macro')\n",
        "recall=recall_score(y_test,y_pred,average='macro')\n",
        "f1score=f1_score(y_test,y_pred,average='macro')\n",
        "print(f'Accuracy={accuracy},Precision={precision},Recall={recall},F1Score={f1_score}')"
      ],
      "metadata": {
        "colab": {
          "base_uri": "https://localhost:8080/"
        },
        "id": "rSpnX63-08uB",
        "outputId": "2120bac9-eb32-4d36-ee44-3e8de2134141"
      },
      "execution_count": null,
      "outputs": [
        {
          "output_type": "stream",
          "name": "stdout",
          "text": [
            "Accuracy=0.297029702970297,Precision=0.2481465293965294,Recall=0.28266182203875706,F1Score=<function f1_score at 0x7f6c04195710>\n"
          ]
        }
      ]
    },
    {
      "cell_type": "code",
      "source": [
        "from sklearn.metrics import classification_report\n",
        "print(classification_report(y_test, y_pred))"
      ],
      "metadata": {
        "colab": {
          "base_uri": "https://localhost:8080/"
        },
        "id": "lCsYhl1Q1FCj",
        "outputId": "c865cdad-182b-428b-ec66-9b374f522ce9"
      },
      "execution_count": null,
      "outputs": [
        {
          "output_type": "stream",
          "name": "stdout",
          "text": [
            "              precision    recall  f1-score   support\n",
            "\n",
            "           0       0.28      0.29      0.29        17\n",
            "           1       0.31      0.42      0.36        19\n",
            "           2       0.09      0.06      0.07        16\n",
            "           3       0.44      0.39      0.41        18\n",
            "           4       0.38      0.53      0.44        17\n",
            "           5       0.00      0.00      0.00        14\n",
            "\n",
            "    accuracy                           0.30       101\n",
            "   macro avg       0.25      0.28      0.26       101\n",
            "weighted avg       0.26      0.30      0.27       101\n",
            "\n"
          ]
        }
      ]
    },
    {
      "cell_type": "code",
      "source": [
        "cm = confusion_matrix(y_test, y_pred)\n",
        "cm_df = pd.DataFrame(cm,\n",
        "                     index = ['Sedan', 'Hatchback', 'SUV', 'Bus', 'Lorry', 'Truck'], \n",
        "                     columns = ['Sedan', 'Hatchback', 'SUV', 'Bus', 'Lorry', 'Truck'])"
      ],
      "metadata": {
        "id": "WUQXBihi1FSX"
      },
      "execution_count": null,
      "outputs": []
    },
    {
      "cell_type": "code",
      "source": [
        "plt.figure(figsize=(5,4))\n",
        "sns.heatmap(cm_df, annot=True)\n",
        "plt.title('Confusion Matrix')\n",
        "plt.ylabel('Actal Values')\n",
        "plt.xlabel('Predicted Values')\n",
        "plt.show()"
      ],
      "metadata": {
        "colab": {
          "base_uri": "https://localhost:8080/",
          "height": 338
        },
        "id": "d7xDphgg1VtX",
        "outputId": "f16d93d1-0444-45d1-835f-0de2c44f12b0"
      },
      "execution_count": null,
      "outputs": [
        {
          "output_type": "display_data",
          "data": {
            "text/plain": [
              "<Figure size 360x288 with 2 Axes>"
            ],
            "image/png": "[encoded data removed]"
          },
          "metadata": {
            "needs_background": "light"
          }
        }
      ]
    }
  ]
}