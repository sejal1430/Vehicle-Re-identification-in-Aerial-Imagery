{
  "cells": [
    {
      "cell_type": "code",
      "execution_count": null,
      "metadata": {
        "id": "48Ge9kIJ4FMJ",
        "colab": {
          "base_uri": "https://localhost:8080/"
        },
        "outputId": "cea4343d-41b1-4c96-af00-acb7ad530f3a"
      },
      "outputs": [
        {
          "output_type": "stream",
          "name": "stdout",
          "text": [
            "Mounted at /content/gdrive\n"
          ]
        }
      ],
      "source": [
        "from google.colab import drive\n",
        "drive.mount('/content/gdrive')\n",
        "import pickle\n",
        "import numpy as np\n",
        "import pandas as pd\n",
        "import cv2\n",
        "from matplotlib import pyplot as plt\n",
        "import glob\n",
        "import random\n",
        "import tensorflow as tf\n",
        "import seaborn as sns\n",
        "import re\n",
        "import tarfile\n",
        "from sklearn.metrics import confusion_matrix\n",
        "from sklearn.model_selection import GridSearchCV\n",
        "from sklearn.neighbors import KNeighborsClassifier\n",
        "from sklearn.metrics import accuracy_score\n",
        "from sklearn.metrics import precision_score\n",
        "from sklearn.metrics import recall_score\n",
        "from sklearn.metrics import f1_score\n",
        "from sklearn.model_selection import train_test_split\n",
        "import seaborn as sns\n",
        "from keras.optimizers import adam_v2\n",
        "from collections import Counter\n",
        "import tensorflow as tf\n",
        "from tensorflow import keras\n",
        "from tensorflow.keras.layers import Dense\n",
        "from tensorflow.keras.layers import Dropout\n",
        "from tensorflow.keras import Sequential\n",
        "# import keras_tuner as kt\n",
        "from keras import optimizer_v2\n",
        "from sklearn.metrics import classification_report\n",
        "from imblearn.under_sampling import RandomUnderSampler"
      ]
    },
    {
      "cell_type": "code",
      "execution_count": null,
      "metadata": {
        "id": "6jCheUSk4pUy"
      },
      "outputs": [],
      "source": [
        "from keras.layers import Input, Lambda, Dense, Flatten\n",
        "from keras.models import Model\n",
        "from keras.applications.vgg19 import VGG19\n",
        "from keras.applications.vgg19 import preprocess_input\n",
        "from keras.applications.resnet import ResNet50\n",
        "from keras.preprocessing import image\n",
        "from keras.preprocessing.image import ImageDataGenerator\n",
        "from keras.models import Sequential\n",
        "import numpy as np\n",
        "from glob import glob\n",
        "import matplotlib.pyplot as plt\n",
        "\n",
        "import warnings\n",
        "warnings.filterwarnings(\"ignore\", category=FutureWarning)"
      ]
    },
    {
      "cell_type": "code",
      "execution_count": null,
      "metadata": {
        "id": "eHfAm1vwNpHg"
      },
      "outputs": [],
      "source": [
        "import tensorflow as tf\n",
        "import tensorflow_hub as hub\n",
        "\n",
        "from tensorflow import keras\n",
        "from tensorflow.keras import layers\n",
        "from tensorflow.keras.models import Sequential"
      ]
    },
    {
      "cell_type": "code",
      "execution_count": null,
      "metadata": {
        "id": "v-6JOdxBAfEV"
      },
      "outputs": [],
      "source": [
        "train_annotation = pickle.load(open('/content/gdrive/MyDrive/Colab_Notebooks/Vehicle_Reidentification/train_annotation.pkl', 'rb'))\n",
        "test_annotation = pickle.load(open('/content/gdrive/MyDrive/Colab_Notebooks/Vehicle_Reidentification/test_annotation.pkl', 'rb'))\n",
        "test_dev_annotation = pickle.load(open('/content/gdrive/MyDrive/Colab_Notebooks/Vehicle_Reidentification/test_dev_annotation.pkl', 'rb'))"
      ]
    },
    {
      "cell_type": "code",
      "execution_count": null,
      "metadata": {
        "id": "_VpaLvu71O2u"
      },
      "outputs": [],
      "source": [
        "file = tarfile.open('/content/gdrive/MyDrive/Colab_Notebooks/Vehicle_Reidentification/images_train.tar')\n",
        "file.extractall('/content/vehicle_images')\n",
        "file.close()"
      ]
    },
    {
      "cell_type": "code",
      "execution_count": null,
      "metadata": {
        "id": "uZwU_CQC1R9y"
      },
      "outputs": [],
      "source": [
        "file = tarfile.open('/content/gdrive/MyDrive/Colab_Notebooks/Vehicle_Reidentification/images_test.tar')\n",
        "file.extractall('/content/vehicle_images')\n",
        "file.close()"
      ]
    },
    {
      "cell_type": "code",
      "execution_count": null,
      "metadata": {
        "id": "Ozogw6aH1XT4"
      },
      "outputs": [],
      "source": [
        "file = tarfile.open('/content/gdrive/MyDrive/Colab_Notebooks/Vehicle_Reidentification/images_dev.tar')\n",
        "file.extractall('/content/vehicle_images')\n",
        "file.close()"
      ]
    },
    {
      "cell_type": "code",
      "execution_count": null,
      "metadata": {
        "id": "_A59ZQWG3gVg"
      },
      "outputs": [],
      "source": [
        "import os\n",
        "import shutil\n",
        "\n",
        "src = '/content/vehicle_images/images_train/'\n",
        "dest = '/content/vehicle_images/'\n",
        "allfiles = os.listdir(src)\n",
        "for f in allfiles:\n",
        "    shutil.move(src + f, dest + f)"
      ]
    },
    {
      "cell_type": "code",
      "execution_count": null,
      "metadata": {
        "id": "f_uYjV9D4G0L"
      },
      "outputs": [],
      "source": [
        "src = '/content/vehicle_images/images_test/'\n",
        "dest = '/content/vehicle_images/'\n",
        "allfiles = os.listdir(src)\n",
        "for f in allfiles:\n",
        "    shutil.move(src + f, dest + f)"
      ]
    },
    {
      "cell_type": "code",
      "execution_count": null,
      "metadata": {
        "id": "MMhVuZ5j4LTp"
      },
      "outputs": [],
      "source": [
        "src = '/content/vehicle_images/images_dev/'\n",
        "dest = '/content/vehicle_images/'\n",
        "allfiles = os.listdir(src)\n",
        "for f in allfiles:\n",
        "    shutil.move(src + f, dest + f)"
      ]
    },
    {
      "cell_type": "code",
      "execution_count": null,
      "metadata": {
        "id": "_nY0IujEAtGK"
      },
      "outputs": [],
      "source": [
        "train_annotation.keys(), test_annotation.keys(), test_dev_annotation.keys()"
      ]
    },
    {
      "cell_type": "code",
      "execution_count": null,
      "metadata": {
        "id": "NUidwhpB4aPH"
      },
      "outputs": [],
      "source": [
        "annotations = {}\n",
        "for ind in train_annotation['type_label']:\n",
        "    img_name = train_annotation['train_im_names'][ind]\n",
        "    annotations[img_name] = train_annotation['type_label'][ind]"
      ]
    },
    {
      "cell_type": "code",
      "execution_count": null,
      "metadata": {
        "id": "rGUlmXyzBkUg"
      },
      "outputs": [],
      "source": [
        "annotations.update(test_annotation['type_label'])\n",
        "annotations.update(test_dev_annotation['type_label'])"
      ]
    },
    {
      "cell_type": "code",
      "execution_count": null,
      "metadata": {
        "id": "gofIZ-WW4zG8"
      },
      "outputs": [],
      "source": [
        "print(annotations['00000207_0002_00000001.jpg'])"
      ]
    },
    {
      "cell_type": "code",
      "execution_count": null,
      "metadata": {
        "id": "5TEeHCrN40rY"
      },
      "outputs": [],
      "source": [
        "Counter(annotations.values())"
      ]
    },
    {
      "cell_type": "code",
      "execution_count": null,
      "metadata": {
        "id": "-YNtAcYg5KUX"
      },
      "outputs": [],
      "source": [
        "strategy = {0:1500, 1:950, 2:1500, 3:700, 4:1300, 5:1150, 6:0}\n",
        "undersample = RandomUnderSampler(sampling_strategy = strategy)\n",
        "X, y = np.array(list(annotations.keys())), np.array(list(annotations.values()))\n",
        "X = X.reshape(-1,1)\n",
        "y = y.reshape(-1,1)\n",
        "annot_name, annot_label = undersample.fit_resample(X, y)\n",
        "Counter(annot_label)"
      ]
    },
    {
      "cell_type": "code",
      "execution_count": null,
      "metadata": {
        "id": "NaOsgOdG5y87"
      },
      "outputs": [],
      "source": [
        "data, label = [], []\n",
        "path = '/content/vehicle_images/'\n",
        "for i in range(7100):\n",
        "    img_name = path+annot_name[i][0]\n",
        "    img = cv2.imread(img_name)\n",
        "    img = cv2.cvtColor(img, cv2.COLOR_BGR2RGB)\n",
        "    img = cv2.resize(img, (224, 224))\n",
        "    data.append(img)\n",
        "    label.append(annot_label[i])\n",
        "\n",
        "# label = pd.get_dummies(label).values"
      ]
    },
    {
      "cell_type": "code",
      "execution_count": null,
      "metadata": {
        "id": "g3iL4IYZ6VQw"
      },
      "outputs": [],
      "source": [
        "X_train, X_test, y_train, y_test = train_test_split(data, label, test_size=0.2, random_state=42, stratify=label)\n",
        "X_train, X_val, y_train, y_val = train_test_split(X_train, y_train, test_size=0.2, random_state=42, stratify=y_train)"
      ]
    },
    {
      "cell_type": "code",
      "execution_count": null,
      "metadata": {
        "id": "Mshwb41Y6ZGd"
      },
      "outputs": [],
      "source": [
        "for i in range(len(X_train)):\n",
        "  X_train[i]=cv2.normalize(X_train[i], None, alpha=0, beta=1, norm_type=cv2.NORM_MINMAX)\n",
        "for i in range(len(X_val)):\n",
        "  X_val[i]=cv2.normalize(X_val[i], None, alpha=0, beta=1, norm_type=cv2.NORM_MINMAX)\n",
        "for i in range(len(X_test)):\n",
        "  X_test[i]=cv2.normalize(X_test[i], None, alpha=0, beta=1, norm_type=cv2.NORM_MINMAX) "
      ]
    },
    {
      "cell_type": "code",
      "execution_count": null,
      "metadata": {
        "id": "K4dljZWEyRiD"
      },
      "outputs": [],
      "source": [
        "X_train = np.array(X_train).astype('float32')\n",
        "X_val = np.array(X_val).astype('float32')\n",
        "X_test = np.array(X_test).astype('float32')\n",
        "y_train = np.array(y_train).reshape((-1,1))\n",
        "y_val = np.array(y_val).reshape((-1,1))\n",
        "y_test = np.array(y_test).reshape((-1,1))"
      ]
    },
    {
      "cell_type": "code",
      "execution_count": null,
      "metadata": {
        "id": "kyouVzZzyUFu"
      },
      "outputs": [],
      "source": [
        "X_train.shape, X_val.shape, X_test.shape"
      ]
    },
    {
      "cell_type": "code",
      "execution_count": null,
      "metadata": {
        "id": "oms7u4eUdKMN"
      },
      "outputs": [],
      "source": [
        "y_train.shape, y_val.shape, y_test.shape"
      ]
    },
    {
      "cell_type": "code",
      "execution_count": null,
      "metadata": {
        "id": "t7f5vwYPNsMl"
      },
      "outputs": [],
      "source": [
        "feature_extractor_model = \"https://tfhub.dev/tensorflow/resnet_50/feature_vector/1\"\n",
        "\n",
        "pretrained_model_without_top_layer = hub.KerasLayer(\n",
        "    feature_extractor_model, input_shape=(224, 224, 3), trainable=False)"
      ]
    },
    {
      "cell_type": "code",
      "execution_count": null,
      "metadata": {
        "id": "x8_HmxV7N1bu",
        "colab": {
          "base_uri": "https://localhost:8080/"
        },
        "outputId": "32852208-a0b7-4414-8ccb-cf1071a6a6ab"
      },
      "outputs": [
        {
          "output_type": "stream",
          "name": "stdout",
          "text": [
            "Model: \"sequential\"\n",
            "_________________________________________________________________\n",
            " Layer (type)                Output Shape              Param #   \n",
            "=================================================================\n",
            " keras_layer (KerasLayer)    (None, 2048)              23561152  \n",
            "                                                                 \n",
            " dense (Dense)               (None, 6)                 12294     \n",
            "                                                                 \n",
            "=================================================================\n",
            "Total params: 23,573,446\n",
            "Trainable params: 12,294\n",
            "Non-trainable params: 23,561,152\n",
            "_________________________________________________________________\n"
          ]
        }
      ],
      "source": [
        "num_of_cars = 6\n",
        "\n",
        "model = Sequential([\n",
        "  pretrained_model_without_top_layer,\n",
        "  Dense(num_of_cars)\n",
        "])\n",
        "model.summary()"
      ]
    },
    {
      "cell_type": "code",
      "execution_count": null,
      "metadata": {
        "id": "jp4Q_8Wqc-uw"
      },
      "outputs": [],
      "source": [
        "model.compile(\n",
        "  optimizer=\"adam\",\n",
        "  loss=tf.keras.losses.SparseCategoricalCrossentropy(from_logits=True),\n",
        "  metrics=['acc'])\n",
        "\n",
        "history = model.fit(X_train, y_train, epochs=20, validation_data=(X_val, y_val), batch_size=5)"
      ]
    },
    {
      "cell_type": "code",
      "source": [
        "acc = history.history['acc']\n",
        "val_acc = history.history['val_acc']\n",
        "loss = history.history['loss']\n",
        "val_loss = history.history['val_loss']\n",
        "epochs_range = range(20)\n",
        "\n",
        "plt.figure(figsize=(15, 15))\n",
        "plt.subplot(2, 2, 1)\n",
        "plt.plot(epochs_range, acc, label='Training Accuracy')\n",
        "plt.plot(epochs_range, val_acc, label='Validation Accuracy')\n",
        "plt.legend(loc='lower right')\n",
        "plt.title('Training and Validation Accuracy')\n",
        "\n",
        "plt.subplot(2, 2, 2)\n",
        "plt.plot(epochs_range, loss, label='Training Loss')\n",
        "plt.plot(epochs_range, val_loss, label='Validation Loss')\n",
        "plt.legend(loc='upper right')\n",
        "plt.title('Training and Validation Loss')\n",
        "plt.show()"
      ],
      "metadata": {
        "id": "rzEcHrCEbrf3"
      },
      "execution_count": null,
      "outputs": []
    },
    {
      "cell_type": "code",
      "source": [
        "y_pred = model.predict(X_test)"
      ],
      "metadata": {
        "id": "rB1DZbdlcB6L"
      },
      "execution_count": null,
      "outputs": []
    },
    {
      "cell_type": "code",
      "source": [
        "y_pred = np.argmax(y_pred, axis = 1)"
      ],
      "metadata": {
        "id": "1gh2XW89Ei0M"
      },
      "execution_count": null,
      "outputs": []
    },
    {
      "cell_type": "code",
      "source": [
        "y_pred[99], y_test[99]"
      ],
      "metadata": {
        "colab": {
          "base_uri": "https://localhost:8080/"
        },
        "id": "rRO5sbqwGhLb",
        "outputId": "841bab53-fb02-4d86-8b20-3cfb5b69e44a"
      },
      "execution_count": null,
      "outputs": [
        {
          "output_type": "execute_result",
          "data": {
            "text/plain": [
              "(2, array([4]))"
            ]
          },
          "metadata": {},
          "execution_count": 39
        }
      ]
    },
    {
      "cell_type": "code",
      "source": [
        "print(classification_report(y_test, y_pred))"
      ],
      "metadata": {
        "id": "P5usamQ1cG65",
        "colab": {
          "base_uri": "https://localhost:8080/"
        },
        "outputId": "a79c7f47-c0b5-4064-8489-72e96b0fe763"
      },
      "execution_count": null,
      "outputs": [
        {
          "output_type": "stream",
          "name": "stdout",
          "text": [
            "              precision    recall  f1-score   support\n",
            "\n",
            "           0       0.61      0.74      0.67       300\n",
            "           1       0.65      0.33      0.43       190\n",
            "           2       0.59      0.55      0.57       300\n",
            "           3       0.90      0.84      0.87       140\n",
            "           4       0.59      0.71      0.64       260\n",
            "           5       0.82      0.83      0.82       230\n",
            "\n",
            "    accuracy                           0.66      1420\n",
            "   macro avg       0.69      0.67      0.67      1420\n",
            "weighted avg       0.67      0.66      0.66      1420\n",
            "\n"
          ]
        }
      ]
    },
    {
      "cell_type": "code",
      "source": [
        "cm = confusion_matrix(y_test, y_pred)\n",
        "cm_df = pd.DataFrame(cm,\n",
        "                     index = ['Sedan', 'Hatchback', 'SUV', 'Bus', 'Lorry', 'Truck'], \n",
        "                     columns = ['Sedan', 'Hatchback', 'SUV', 'Bus', 'Lorry', 'Truck'])"
      ],
      "metadata": {
        "id": "U5Nms3Y0cJjO"
      },
      "execution_count": null,
      "outputs": []
    },
    {
      "cell_type": "code",
      "source": [
        "plt.figure(figsize=(5,4))\n",
        "sns.heatmap(cm_df, annot=True)\n",
        "plt.title('Confusion Matrix')\n",
        "plt.ylabel('Actal Values')\n",
        "plt.xlabel('Predicted Values')\n",
        "plt.show()"
      ],
      "metadata": {
        "id": "ErnFvgTQcKYF",
        "colab": {
          "base_uri": "https://localhost:8080/",
          "height": 338
        },
        "outputId": "ef1c36a0-d1cd-4e50-ce4c-e1a9643fe3d5"
      },
      "execution_count": null,
      "outputs": [
        {
          "output_type": "display_data",
          "data": {
            "text/plain": [
              "<Figure size 360x288 with 2 Axes>"
            ],
            "image/png": "[encoded data removed]"
          },
          "metadata": {
            "needs_background": "light"
          }
        }
      ]
    }
  ],
  "metadata": {
    "colab": {
      "collapsed_sections": [],
      "name": "Resnet.ipynb",
      "provenance": []
    },
    "kernelspec": {
      "display_name": "Python 3",
      "name": "python3"
    },
    "language_info": {
      "name": "python"
    }
  },
  "nbformat": 4,
  "nbformat_minor": 0
}